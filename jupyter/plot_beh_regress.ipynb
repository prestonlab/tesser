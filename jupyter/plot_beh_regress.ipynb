{
 "cells": [
  {
   "cell_type": "markdown",
   "metadata": {},
   "source": [
    "# Examine relationships between behavioral measures"
   ]
  },
  {
   "cell_type": "code",
   "execution_count": 1,
   "metadata": {},
   "outputs": [],
   "source": [
    "import os\n",
    "import pandas as pd\n",
    "import matplotlib.pyplot as plt\n",
    "import seaborn as sns\n",
    "import pingouin as pg\n",
    "from tesser import tasks\n",
    "\n",
    "bids_dir = os.environ['TESSER_BIDS']\n",
    "fig_dir = os.path.join(os.environ['TESSER_FIGURES'], 'plots')\n",
    "os.makedirs(fig_dir, exist_ok=True)"
   ]
  },
  {
   "cell_type": "markdown",
   "metadata": {},
   "source": [
    "## Load behavioral data"
   ]
  },
  {
   "cell_type": "code",
   "execution_count": 2,
   "metadata": {},
   "outputs": [],
   "source": [
    "struct_raw = tasks.load_struct(bids_dir)\n",
    "induct_raw = tasks.load_induct(bids_dir)\n",
    "parse_raw = tasks.load_parse(bids_dir)\n",
    "group_raw = tasks.load_group(bids_dir)"
   ]
  },
  {
   "cell_type": "markdown",
   "metadata": {},
   "source": [
    "## Calculate summary statistics"
   ]
  },
  {
   "cell_type": "code",
   "execution_count": 3,
   "metadata": {},
   "outputs": [],
   "source": [
    "# d' for rotation detection\n",
    "struct = tasks.exclude_struct_switched(struct_raw)\n",
    "rot = struct.groupby('subject').apply(tasks.rotation_perf)\n",
    "m_rot = rot[['dprime']]"
   ]
  },
  {
   "cell_type": "code",
   "execution_count": 4,
   "metadata": {},
   "outputs": [],
   "source": [
    "# mean difference in parsing probability between transition objects and other objects\n",
    "parse_raw = tasks.score_parse(parse_raw)\n",
    "parse = tasks.parse_perf(parse_raw)\n",
    "table = (\n",
    "    parse.sort_values(['trial_type', 'subject', 'parse_type'])\n",
    "    .set_index(['trial_type', 'subject', 'parse_type'])\n",
    "    .loc[:, 'response']\n",
    "    .unstack('parse_type')\n",
    ")\n",
    "diff = table['transition'] - table['other']\n",
    "m_parse = diff.unstack('trial_type').mean(axis=1)\n",
    "m_parse.name = 'parse'"
   ]
  },
  {
   "cell_type": "code",
   "execution_count": 5,
   "metadata": {},
   "outputs": [],
   "source": [
    "# temporal bias in inference decisions\n",
    "induct = tasks.score_induct(induct_raw)\n",
    "m_induct = (\n",
    "    induct.groupby(['trial_type', 'subject'])['correct']\n",
    "    .mean()\n",
    "    .unstack('trial_type')\n",
    ")\n",
    "m_induct.columns = m_induct.columns.values.to_list()\n",
    "m_induct['induct'] = m_induct.mean(axis=1)\n",
    "m_bias = (m_induct - 0.5) * 2\n",
    "m_bias['induct'] = m_bias.mean(axis=1)"
   ]
  },
  {
   "cell_type": "code",
   "execution_count": 6,
   "metadata": {},
   "outputs": [],
   "source": [
    "# group task distances\n",
    "group = tasks.group_distance(group_raw)\n",
    "m_group = group.set_index('subject')\n",
    "m_group['group'] = m_group['across'] - m_group['within']"
   ]
  },
  {
   "cell_type": "code",
   "execution_count": 7,
   "metadata": {},
   "outputs": [
    {
     "data": {
      "text/html": [
       "<div>\n",
       "<style scoped>\n",
       "    .dataframe tbody tr th:only-of-type {\n",
       "        vertical-align: middle;\n",
       "    }\n",
       "\n",
       "    .dataframe tbody tr th {\n",
       "        vertical-align: top;\n",
       "    }\n",
       "\n",
       "    .dataframe thead th {\n",
       "        text-align: right;\n",
       "    }\n",
       "</style>\n",
       "<table border=\"1\" class=\"dataframe\">\n",
       "  <thead>\n",
       "    <tr style=\"text-align: right;\">\n",
       "      <th></th>\n",
       "      <th>dprime</th>\n",
       "      <th>central</th>\n",
       "      <th>boundary1</th>\n",
       "      <th>boundary2</th>\n",
       "      <th>induct</th>\n",
       "      <th>parse</th>\n",
       "      <th>within</th>\n",
       "      <th>across</th>\n",
       "      <th>group</th>\n",
       "    </tr>\n",
       "    <tr>\n",
       "      <th>subject</th>\n",
       "      <th></th>\n",
       "      <th></th>\n",
       "      <th></th>\n",
       "      <th></th>\n",
       "      <th></th>\n",
       "      <th></th>\n",
       "      <th></th>\n",
       "      <th></th>\n",
       "      <th></th>\n",
       "    </tr>\n",
       "  </thead>\n",
       "  <tbody>\n",
       "    <tr>\n",
       "      <th>100</th>\n",
       "      <td>4.302244</td>\n",
       "      <td>-0.310345</td>\n",
       "      <td>-0.333333</td>\n",
       "      <td>0.333333</td>\n",
       "      <td>-1.034483e-01</td>\n",
       "      <td>0.112128</td>\n",
       "      <td>6.453109</td>\n",
       "      <td>6.303163</td>\n",
       "      <td>-0.149946</td>\n",
       "    </tr>\n",
       "    <tr>\n",
       "      <th>101</th>\n",
       "      <td>3.707007</td>\n",
       "      <td>0.066667</td>\n",
       "      <td>0.333333</td>\n",
       "      <td>0.000000</td>\n",
       "      <td>1.333333e-01</td>\n",
       "      <td>0.209351</td>\n",
       "      <td>3.275216</td>\n",
       "      <td>7.544530</td>\n",
       "      <td>4.269313</td>\n",
       "    </tr>\n",
       "    <tr>\n",
       "      <th>102</th>\n",
       "      <td>3.919636</td>\n",
       "      <td>0.733333</td>\n",
       "      <td>0.666667</td>\n",
       "      <td>0.333333</td>\n",
       "      <td>5.777778e-01</td>\n",
       "      <td>0.702920</td>\n",
       "      <td>1.903457</td>\n",
       "      <td>13.488641</td>\n",
       "      <td>11.585184</td>\n",
       "    </tr>\n",
       "    <tr>\n",
       "      <th>103</th>\n",
       "      <td>3.474023</td>\n",
       "      <td>0.200000</td>\n",
       "      <td>0.000000</td>\n",
       "      <td>0.333333</td>\n",
       "      <td>1.777778e-01</td>\n",
       "      <td>-0.122795</td>\n",
       "      <td>5.924018</td>\n",
       "      <td>6.538673</td>\n",
       "      <td>0.614655</td>\n",
       "    </tr>\n",
       "    <tr>\n",
       "      <th>104</th>\n",
       "      <td>3.804131</td>\n",
       "      <td>0.000000</td>\n",
       "      <td>-0.333333</td>\n",
       "      <td>0.333333</td>\n",
       "      <td>-2.775558e-17</td>\n",
       "      <td>0.100037</td>\n",
       "      <td>6.119553</td>\n",
       "      <td>5.797296</td>\n",
       "      <td>-0.322257</td>\n",
       "    </tr>\n",
       "  </tbody>\n",
       "</table>\n",
       "</div>"
      ],
      "text/plain": [
       "           dprime   central  boundary1  boundary2        induct     parse  \\\n",
       "subject                                                                     \n",
       "100      4.302244 -0.310345  -0.333333   0.333333 -1.034483e-01  0.112128   \n",
       "101      3.707007  0.066667   0.333333   0.000000  1.333333e-01  0.209351   \n",
       "102      3.919636  0.733333   0.666667   0.333333  5.777778e-01  0.702920   \n",
       "103      3.474023  0.200000   0.000000   0.333333  1.777778e-01 -0.122795   \n",
       "104      3.804131  0.000000  -0.333333   0.333333 -2.775558e-17  0.100037   \n",
       "\n",
       "           within     across      group  \n",
       "subject                                  \n",
       "100      6.453109   6.303163  -0.149946  \n",
       "101      3.275216   7.544530   4.269313  \n",
       "102      1.903457  13.488641  11.585184  \n",
       "103      5.924018   6.538673   0.614655  \n",
       "104      6.119553   5.797296  -0.322257  "
      ]
     },
     "execution_count": 7,
     "metadata": {},
     "output_type": "execute_result"
    }
   ],
   "source": [
    "results = pd.concat([m_rot, m_bias, m_parse, m_group], axis=1)\n",
    "results.head()"
   ]
  },
  {
   "cell_type": "markdown",
   "metadata": {},
   "source": [
    "## Parsing and grouping"
   ]
  },
  {
   "cell_type": "code",
   "execution_count": 8,
   "metadata": {},
   "outputs": [
    {
     "data": {
      "text/html": [
       "<div>\n",
       "<style scoped>\n",
       "    .dataframe tbody tr th:only-of-type {\n",
       "        vertical-align: middle;\n",
       "    }\n",
       "\n",
       "    .dataframe tbody tr th {\n",
       "        vertical-align: top;\n",
       "    }\n",
       "\n",
       "    .dataframe thead th {\n",
       "        text-align: right;\n",
       "    }\n",
       "</style>\n",
       "<table border=\"1\" class=\"dataframe\">\n",
       "  <thead>\n",
       "    <tr style=\"text-align: right;\">\n",
       "      <th></th>\n",
       "      <th>n</th>\n",
       "      <th>r</th>\n",
       "      <th>CI95%</th>\n",
       "      <th>p-val</th>\n",
       "    </tr>\n",
       "  </thead>\n",
       "  <tbody>\n",
       "    <tr>\n",
       "      <th>pearson</th>\n",
       "      <td>37</td>\n",
       "      <td>-0.628091</td>\n",
       "      <td>[-0.79, -0.38]</td>\n",
       "      <td>0.000041</td>\n",
       "    </tr>\n",
       "  </tbody>\n",
       "</table>\n",
       "</div>"
      ],
      "text/plain": [
       "          n         r           CI95%     p-val\n",
       "pearson  37 -0.628091  [-0.79, -0.38]  0.000041"
      ]
     },
     "execution_count": 8,
     "metadata": {},
     "output_type": "execute_result"
    }
   ],
   "source": [
    "pg.partial_corr(data=results, x='parse', y='within', covar='dprime')"
   ]
  },
  {
   "cell_type": "code",
   "execution_count": 9,
   "metadata": {},
   "outputs": [
    {
     "data": {
      "text/html": [
       "<div>\n",
       "<style scoped>\n",
       "    .dataframe tbody tr th:only-of-type {\n",
       "        vertical-align: middle;\n",
       "    }\n",
       "\n",
       "    .dataframe tbody tr th {\n",
       "        vertical-align: top;\n",
       "    }\n",
       "\n",
       "    .dataframe thead th {\n",
       "        text-align: right;\n",
       "    }\n",
       "</style>\n",
       "<table border=\"1\" class=\"dataframe\">\n",
       "  <thead>\n",
       "    <tr style=\"text-align: right;\">\n",
       "      <th></th>\n",
       "      <th>n</th>\n",
       "      <th>r</th>\n",
       "      <th>CI95%</th>\n",
       "      <th>p-val</th>\n",
       "    </tr>\n",
       "  </thead>\n",
       "  <tbody>\n",
       "    <tr>\n",
       "      <th>pearson</th>\n",
       "      <td>37</td>\n",
       "      <td>0.065365</td>\n",
       "      <td>[-0.27, 0.39]</td>\n",
       "      <td>0.704869</td>\n",
       "    </tr>\n",
       "  </tbody>\n",
       "</table>\n",
       "</div>"
      ],
      "text/plain": [
       "          n         r          CI95%     p-val\n",
       "pearson  37  0.065365  [-0.27, 0.39]  0.704869"
      ]
     },
     "execution_count": 9,
     "metadata": {},
     "output_type": "execute_result"
    }
   ],
   "source": [
    "pg.partial_corr(data=results, x='parse', y='across', covar='dprime')"
   ]
  },
  {
   "cell_type": "code",
   "execution_count": 10,
   "metadata": {},
   "outputs": [
    {
     "data": {
      "image/png": "[encoded data removed]",
      "text/plain": [
       "<Figure size 216x216 with 1 Axes>"
      ]
     },
     "metadata": {
      "needs_background": "light"
     },
     "output_type": "display_data"
    }
   ],
   "source": [
    "fig, ax = plt.subplots(figsize=(3, 3))\n",
    "temp = results.copy()\n",
    "temp['within_ctrl_dprime'] = tasks.resid(results['dprime'], results['within'])\n",
    "temp['parse_ctrl_dprime'] = tasks.resid(results['dprime'], results['parse'])\n",
    "sns.regplot(\n",
    "    data=temp,\n",
    "    x='parse_ctrl_dprime',\n",
    "    y='within_ctrl_dprime',\n",
    "    color=(.2, .2, .2),\n",
    "    ax=ax,\n",
    ");\n",
    "ax.set(\n",
    "    xlim=(-.3, .6),\n",
    "    xlabel='Parsing performance',\n",
    "    ylabel=\"Within-community distance\",\n",
    ");\n",
    "fig.savefig(os.path.join(fig_dir, 'parse_within.pdf'))"
   ]
  },
  {
   "cell_type": "markdown",
   "metadata": {},
   "source": [
    "## Parsing and inference"
   ]
  },
  {
   "cell_type": "code",
   "execution_count": 11,
   "metadata": {},
   "outputs": [
    {
     "data": {
      "text/html": [
       "<div>\n",
       "<style scoped>\n",
       "    .dataframe tbody tr th:only-of-type {\n",
       "        vertical-align: middle;\n",
       "    }\n",
       "\n",
       "    .dataframe tbody tr th {\n",
       "        vertical-align: top;\n",
       "    }\n",
       "\n",
       "    .dataframe thead th {\n",
       "        text-align: right;\n",
       "    }\n",
       "</style>\n",
       "<table border=\"1\" class=\"dataframe\">\n",
       "  <thead>\n",
       "    <tr style=\"text-align: right;\">\n",
       "      <th></th>\n",
       "      <th>n</th>\n",
       "      <th>r</th>\n",
       "      <th>CI95%</th>\n",
       "      <th>p-val</th>\n",
       "    </tr>\n",
       "  </thead>\n",
       "  <tbody>\n",
       "    <tr>\n",
       "      <th>pearson</th>\n",
       "      <td>37</td>\n",
       "      <td>0.336279</td>\n",
       "      <td>[0.01, 0.6]</td>\n",
       "      <td>0.044932</td>\n",
       "    </tr>\n",
       "  </tbody>\n",
       "</table>\n",
       "</div>"
      ],
      "text/plain": [
       "          n         r        CI95%     p-val\n",
       "pearson  37  0.336279  [0.01, 0.6]  0.044932"
      ]
     },
     "execution_count": 11,
     "metadata": {},
     "output_type": "execute_result"
    }
   ],
   "source": [
    "pg.partial_corr(data=results, x='parse', y='induct', covar='dprime')"
   ]
  },
  {
   "cell_type": "code",
   "execution_count": 12,
   "metadata": {},
   "outputs": [
    {
     "data": {
      "image/png": "[encoded data removed]",
      "text/plain": [
       "<Figure size 216x216 with 1 Axes>"
      ]
     },
     "metadata": {
      "needs_background": "light"
     },
     "output_type": "display_data"
    }
   ],
   "source": [
    "fig, ax = plt.subplots(figsize=(3, 3))\n",
    "temp = results.copy()\n",
    "temp['induct_ctrl_dprime'] = tasks.resid(results['dprime'], results['induct'])\n",
    "temp['parse_ctrl_dprime'] = tasks.resid(results['dprime'], results['parse'])\n",
    "sns.regplot(\n",
    "    data=temp,\n",
    "    x='parse_ctrl_dprime',\n",
    "    y='induct_ctrl_dprime',\n",
    "    color=(.2, .2, .2),\n",
    "    ax=ax,\n",
    ");\n",
    "ax.set(\n",
    "    xlim=(-.3, .6),\n",
    "    xlabel=\"Parsing performance\",\n",
    "    ylabel=\"Temporal inference bias\",\n",
    ");\n",
    "fig.savefig(os.path.join(fig_dir, 'parse_bias.pdf'))"
   ]
  },
  {
   "cell_type": "markdown",
   "metadata": {},
   "source": [
    "## Grouping and inference"
   ]
  },
  {
   "cell_type": "code",
   "execution_count": 13,
   "metadata": {},
   "outputs": [
    {
     "data": {
      "text/html": [
       "<div>\n",
       "<style scoped>\n",
       "    .dataframe tbody tr th:only-of-type {\n",
       "        vertical-align: middle;\n",
       "    }\n",
       "\n",
       "    .dataframe tbody tr th {\n",
       "        vertical-align: top;\n",
       "    }\n",
       "\n",
       "    .dataframe thead th {\n",
       "        text-align: right;\n",
       "    }\n",
       "</style>\n",
       "<table border=\"1\" class=\"dataframe\">\n",
       "  <thead>\n",
       "    <tr style=\"text-align: right;\">\n",
       "      <th></th>\n",
       "      <th>n</th>\n",
       "      <th>r</th>\n",
       "      <th>CI95%</th>\n",
       "      <th>p-val</th>\n",
       "    </tr>\n",
       "  </thead>\n",
       "  <tbody>\n",
       "    <tr>\n",
       "      <th>pearson</th>\n",
       "      <td>37</td>\n",
       "      <td>-0.184636</td>\n",
       "      <td>[-0.48, 0.15]</td>\n",
       "      <td>0.281024</td>\n",
       "    </tr>\n",
       "  </tbody>\n",
       "</table>\n",
       "</div>"
      ],
      "text/plain": [
       "          n         r          CI95%     p-val\n",
       "pearson  37 -0.184636  [-0.48, 0.15]  0.281024"
      ]
     },
     "execution_count": 13,
     "metadata": {},
     "output_type": "execute_result"
    }
   ],
   "source": [
    "pg.partial_corr(data=results, x='within', y='induct', covar='dprime')"
   ]
  },
  {
   "cell_type": "code",
   "execution_count": 14,
   "metadata": {},
   "outputs": [
    {
     "data": {
      "text/html": [
       "<div>\n",
       "<style scoped>\n",
       "    .dataframe tbody tr th:only-of-type {\n",
       "        vertical-align: middle;\n",
       "    }\n",
       "\n",
       "    .dataframe tbody tr th {\n",
       "        vertical-align: top;\n",
       "    }\n",
       "\n",
       "    .dataframe thead th {\n",
       "        text-align: right;\n",
       "    }\n",
       "</style>\n",
       "<table border=\"1\" class=\"dataframe\">\n",
       "  <thead>\n",
       "    <tr style=\"text-align: right;\">\n",
       "      <th></th>\n",
       "      <th>n</th>\n",
       "      <th>r</th>\n",
       "      <th>CI95%</th>\n",
       "      <th>p-val</th>\n",
       "    </tr>\n",
       "  </thead>\n",
       "  <tbody>\n",
       "    <tr>\n",
       "      <th>pearson</th>\n",
       "      <td>37</td>\n",
       "      <td>0.070687</td>\n",
       "      <td>[-0.26, 0.39]</td>\n",
       "      <td>0.682049</td>\n",
       "    </tr>\n",
       "  </tbody>\n",
       "</table>\n",
       "</div>"
      ],
      "text/plain": [
       "          n         r          CI95%     p-val\n",
       "pearson  37  0.070687  [-0.26, 0.39]  0.682049"
      ]
     },
     "execution_count": 14,
     "metadata": {},
     "output_type": "execute_result"
    }
   ],
   "source": [
    "pg.partial_corr(data=results, x='across', y='induct', covar='dprime')"
   ]
  },
  {
   "cell_type": "code",
   "execution_count": 15,
   "metadata": {},
   "outputs": [
    {
     "data": {
      "text/html": [
       "<div>\n",
       "<style scoped>\n",
       "    .dataframe tbody tr th:only-of-type {\n",
       "        vertical-align: middle;\n",
       "    }\n",
       "\n",
       "    .dataframe tbody tr th {\n",
       "        vertical-align: top;\n",
       "    }\n",
       "\n",
       "    .dataframe thead th {\n",
       "        text-align: right;\n",
       "    }\n",
       "</style>\n",
       "<table border=\"1\" class=\"dataframe\">\n",
       "  <thead>\n",
       "    <tr style=\"text-align: right;\">\n",
       "      <th></th>\n",
       "      <th>n</th>\n",
       "      <th>r</th>\n",
       "      <th>CI95%</th>\n",
       "      <th>p-val</th>\n",
       "    </tr>\n",
       "  </thead>\n",
       "  <tbody>\n",
       "    <tr>\n",
       "      <th>pearson</th>\n",
       "      <td>37</td>\n",
       "      <td>-0.238957</td>\n",
       "      <td>[-0.53, 0.1]</td>\n",
       "      <td>0.160446</td>\n",
       "    </tr>\n",
       "  </tbody>\n",
       "</table>\n",
       "</div>"
      ],
      "text/plain": [
       "          n         r         CI95%     p-val\n",
       "pearson  37 -0.238957  [-0.53, 0.1]  0.160446"
      ]
     },
     "execution_count": 15,
     "metadata": {},
     "output_type": "execute_result"
    }
   ],
   "source": [
    "pg.partial_corr(data=results, x='within', y='central', covar='dprime')"
   ]
  },
  {
   "cell_type": "code",
   "execution_count": 16,
   "metadata": {},
   "outputs": [
    {
     "data": {
      "text/html": [
       "<div>\n",
       "<style scoped>\n",
       "    .dataframe tbody tr th:only-of-type {\n",
       "        vertical-align: middle;\n",
       "    }\n",
       "\n",
       "    .dataframe tbody tr th {\n",
       "        vertical-align: top;\n",
       "    }\n",
       "\n",
       "    .dataframe thead th {\n",
       "        text-align: right;\n",
       "    }\n",
       "</style>\n",
       "<table border=\"1\" class=\"dataframe\">\n",
       "  <thead>\n",
       "    <tr style=\"text-align: right;\">\n",
       "      <th></th>\n",
       "      <th>n</th>\n",
       "      <th>r</th>\n",
       "      <th>CI95%</th>\n",
       "      <th>p-val</th>\n",
       "    </tr>\n",
       "  </thead>\n",
       "  <tbody>\n",
       "    <tr>\n",
       "      <th>pearson</th>\n",
       "      <td>37</td>\n",
       "      <td>-0.075585</td>\n",
       "      <td>[-0.39, 0.26]</td>\n",
       "      <td>0.661292</td>\n",
       "    </tr>\n",
       "  </tbody>\n",
       "</table>\n",
       "</div>"
      ],
      "text/plain": [
       "          n         r          CI95%     p-val\n",
       "pearson  37 -0.075585  [-0.39, 0.26]  0.661292"
      ]
     },
     "execution_count": 16,
     "metadata": {},
     "output_type": "execute_result"
    }
   ],
   "source": [
    "pg.partial_corr(data=results, x='within', y='boundary1', covar='dprime')"
   ]
  },
  {
   "cell_type": "code",
   "execution_count": 17,
   "metadata": {},
   "outputs": [
    {
     "data": {
      "text/html": [
       "<div>\n",
       "<style scoped>\n",
       "    .dataframe tbody tr th:only-of-type {\n",
       "        vertical-align: middle;\n",
       "    }\n",
       "\n",
       "    .dataframe tbody tr th {\n",
       "        vertical-align: top;\n",
       "    }\n",
       "\n",
       "    .dataframe thead th {\n",
       "        text-align: right;\n",
       "    }\n",
       "</style>\n",
       "<table border=\"1\" class=\"dataframe\">\n",
       "  <thead>\n",
       "    <tr style=\"text-align: right;\">\n",
       "      <th></th>\n",
       "      <th>n</th>\n",
       "      <th>r</th>\n",
       "      <th>CI95%</th>\n",
       "      <th>p-val</th>\n",
       "    </tr>\n",
       "  </thead>\n",
       "  <tbody>\n",
       "    <tr>\n",
       "      <th>pearson</th>\n",
       "      <td>37</td>\n",
       "      <td>-0.143879</td>\n",
       "      <td>[-0.45, 0.19]</td>\n",
       "      <td>0.402494</td>\n",
       "    </tr>\n",
       "  </tbody>\n",
       "</table>\n",
       "</div>"
      ],
      "text/plain": [
       "          n         r          CI95%     p-val\n",
       "pearson  37 -0.143879  [-0.45, 0.19]  0.402494"
      ]
     },
     "execution_count": 17,
     "metadata": {},
     "output_type": "execute_result"
    }
   ],
   "source": [
    "pg.partial_corr(data=results, x='within', y='boundary2', covar='dprime')"
   ]
  },
  {
   "cell_type": "code",
   "execution_count": 18,
   "metadata": {},
   "outputs": [
    {
     "name": "stdout",
     "output_type": "stream",
     "text": [
      "Python implementation: CPython\n",
      "Python version       : 3.7.6\n",
      "IPython version      : 7.11.1\n",
      "\n",
      "tesser    : 0.1.0\n",
      "pingouin  : 0.3.12\n",
      "seaborn   : 0.11.1\n",
      "pandas    : 1.2.5\n",
      "matplotlib: 3.4.2\n",
      "\n"
     ]
    }
   ],
   "source": [
    "%load_ext watermark\n",
    "%watermark -v -iv"
   ]
  }
 ],
 "metadata": {
  "kernelspec": {
   "display_name": "tesser",
   "language": "python",
   "name": "tesser"
  },
  "language_info": {
   "codemirror_mode": {
    "name": "ipython",
    "version": 3
   },
   "file_extension": ".py",
   "mimetype": "text/x-python",
   "name": "python",
   "nbconvert_exporter": "python",
   "pygments_lexer": "ipython3",
   "version": "3.7.6"
  }
 },
 "nbformat": 4,
 "nbformat_minor": 4
}
