{
 "cells": [
  {
   "cell_type": "code",
   "execution_count": 1,
   "metadata": {},
   "outputs": [],
   "source": [
    "import os\n",
    "import numpy as np\n",
    "from scipy import stats\n",
    "import matplotlib.pyplot as plt\n",
    "import seaborn as sns\n",
    "from tesser import util\n",
    "from tesser import figures\n",
    "\n",
    "data_dir = '/Users/morton/Dropbox/tesser_successor/Data'\n",
    "fig_dir = '/Users/morton/Dropbox/tesser_successor/Figures/plots'"
   ]
  },
  {
   "cell_type": "code",
   "execution_count": 2,
   "metadata": {},
   "outputs": [
    {
     "data": {
      "text/html": [
       "<div>\n",
       "<style scoped>\n",
       "    .dataframe tbody tr th:only-of-type {\n",
       "        vertical-align: middle;\n",
       "    }\n",
       "\n",
       "    .dataframe tbody tr th {\n",
       "        vertical-align: top;\n",
       "    }\n",
       "\n",
       "    .dataframe thead th {\n",
       "        text-align: right;\n",
       "    }\n",
       "</style>\n",
       "<table border=\"1\" class=\"dataframe\">\n",
       "  <thead>\n",
       "    <tr style=\"text-align: right;\">\n",
       "      <th></th>\n",
       "      <th>subject</th>\n",
       "      <th>trial</th>\n",
       "      <th>trial_type</th>\n",
       "      <th>environment</th>\n",
       "      <th>community</th>\n",
       "      <th>cue</th>\n",
       "      <th>opt1</th>\n",
       "      <th>opt2</th>\n",
       "      <th>response</th>\n",
       "      <th>response_time</th>\n",
       "      <th>correct</th>\n",
       "    </tr>\n",
       "  </thead>\n",
       "  <tbody>\n",
       "    <tr>\n",
       "      <th>0</th>\n",
       "      <td>100</td>\n",
       "      <td>1</td>\n",
       "      <td>central</td>\n",
       "      <td>ocean</td>\n",
       "      <td>1</td>\n",
       "      <td>2</td>\n",
       "      <td>16</td>\n",
       "      <td>20</td>\n",
       "      <td>&lt;NA&gt;</td>\n",
       "      <td>NaN</td>\n",
       "      <td>0</td>\n",
       "    </tr>\n",
       "    <tr>\n",
       "      <th>1</th>\n",
       "      <td>100</td>\n",
       "      <td>2</td>\n",
       "      <td>boundary2</td>\n",
       "      <td>desert</td>\n",
       "      <td>2</td>\n",
       "      <td>4</td>\n",
       "      <td>10</td>\n",
       "      <td>19</td>\n",
       "      <td>2</td>\n",
       "      <td>2.974157</td>\n",
       "      <td>0</td>\n",
       "    </tr>\n",
       "    <tr>\n",
       "      <th>2</th>\n",
       "      <td>100</td>\n",
       "      <td>3</td>\n",
       "      <td>central</td>\n",
       "      <td>desert</td>\n",
       "      <td>2</td>\n",
       "      <td>5</td>\n",
       "      <td>6</td>\n",
       "      <td>2</td>\n",
       "      <td>1</td>\n",
       "      <td>3.190848</td>\n",
       "      <td>1</td>\n",
       "    </tr>\n",
       "    <tr>\n",
       "      <th>3</th>\n",
       "      <td>100</td>\n",
       "      <td>4</td>\n",
       "      <td>central</td>\n",
       "      <td>ocean</td>\n",
       "      <td>1</td>\n",
       "      <td>2</td>\n",
       "      <td>9</td>\n",
       "      <td>19</td>\n",
       "      <td>2</td>\n",
       "      <td>3.373906</td>\n",
       "      <td>1</td>\n",
       "    </tr>\n",
       "    <tr>\n",
       "      <th>4</th>\n",
       "      <td>100</td>\n",
       "      <td>5</td>\n",
       "      <td>central</td>\n",
       "      <td>ocean</td>\n",
       "      <td>1</td>\n",
       "      <td>1</td>\n",
       "      <td>19</td>\n",
       "      <td>13</td>\n",
       "      <td>2</td>\n",
       "      <td>3.094699</td>\n",
       "      <td>0</td>\n",
       "    </tr>\n",
       "  </tbody>\n",
       "</table>\n",
       "</div>"
      ],
      "text/plain": [
       "   subject  trial trial_type environment  community  cue  opt1  opt2  \\\n",
       "0      100      1    central       ocean          1    2    16    20   \n",
       "1      100      2  boundary2      desert          2    4    10    19   \n",
       "2      100      3    central      desert          2    5     6     2   \n",
       "3      100      4    central       ocean          1    2     9    19   \n",
       "4      100      5    central       ocean          1    1    19    13   \n",
       "\n",
       "   response  response_time  correct  \n",
       "0      <NA>            NaN        0  \n",
       "1         2       2.974157        0  \n",
       "2         1       3.190848        1  \n",
       "3         2       3.373906        1  \n",
       "4         2       3.094699        0  "
      ]
     },
     "execution_count": 2,
     "metadata": {},
     "output_type": "execute_result"
    }
   ],
   "source": [
    "induct = util.load_induct(data_dir)\n",
    "induct.head()"
   ]
  },
  {
   "cell_type": "code",
   "execution_count": 3,
   "metadata": {},
   "outputs": [],
   "source": [
    "m = (induct.groupby(['subject', 'trial_type'])['correct'].mean() - .5) * 2"
   ]
  },
  {
   "cell_type": "code",
   "execution_count": 4,
   "metadata": {},
   "outputs": [
    {
     "data": {
      "text/html": [
       "<svg  width=\"165\" height=\"55\"><rect x=\"0\" y=\"0\" width=\"55\" height=\"55\" style=\"fill:#147dc8;stroke-width:2;stroke:rgb(255,255,255)\"/><rect x=\"55\" y=\"0\" width=\"55\" height=\"55\" style=\"fill:#00a5a0;stroke-width:2;stroke:rgb(255,255,255)\"/><rect x=\"110\" y=\"0\" width=\"55\" height=\"55\" style=\"fill:#0fae4b;stroke-width:2;stroke:rgb(255,255,255)\"/></svg>"
      ],
      "text/plain": [
       "[(0.078125, 0.48828125, 0.78515625),\n",
       " (0.00022977941176470588, 0.6485753676470588, 0.6275888480392157),\n",
       " (0.05859375, 0.68359375, 0.29296875)]"
      ]
     },
     "execution_count": 4,
     "metadata": {},
     "output_type": "execute_result"
    }
   ],
   "source": [
    "dark = sns.blend_palette(\n",
    "    [\n",
    "        np.array([20, 125, 201]) / 256, \n",
    "        np.array([0, 166, 161]) / 256, \n",
    "        np.array([15, 175, 75]) / 256,\n",
    "    ], n_colors=3\n",
    ")\n",
    "dark"
   ]
  },
  {
   "cell_type": "code",
   "execution_count": 5,
   "metadata": {},
   "outputs": [
    {
     "data": {
      "text/html": [
       "<svg  width=\"165\" height=\"55\"><rect x=\"0\" y=\"0\" width=\"55\" height=\"55\" style=\"fill:#aad3ec;stroke-width:2;stroke:rgb(255,255,255)\"/><rect x=\"55\" y=\"0\" width=\"55\" height=\"55\" style=\"fill:#abeaf1;stroke-width:2;stroke:rgb(255,255,255)\"/><rect x=\"110\" y=\"0\" width=\"55\" height=\"55\" style=\"fill:#a4e7b0;stroke-width:2;stroke:rgb(255,255,255)\"/></svg>"
      ],
      "text/plain": [
       "[(0.66796875, 0.828125, 0.92578125),\n",
       " (0.6717677696078431, 0.9179227941176471, 0.9443167892156863),\n",
       " (0.64453125, 0.90625, 0.69140625)]"
      ]
     },
     "execution_count": 5,
     "metadata": {},
     "output_type": "execute_result"
    }
   ],
   "source": [
    "light = sns.blend_palette(\n",
    "    [\n",
    "        np.array([171, 212, 237]) / 256, \n",
    "        np.array([172, 235, 242]) / 256, \n",
    "        np.array([165, 232, 177]) / 256,\n",
    "    ], n_colors=3\n",
    ")\n",
    "light"
   ]
  },
  {
   "cell_type": "code",
   "execution_count": 6,
   "metadata": {},
   "outputs": [
    {
     "data": {
      "image/png": "[encoded data removed]",
      "text/plain": [
       "<Figure size 288x216 with 1 Axes>"
      ]
     },
     "metadata": {
      "needs_background": "light"
     },
     "output_type": "display_data"
    }
   ],
   "source": [
    "fig, ax = plt.subplots(figsize=(4, 3))\n",
    "figures.plot_swarm_error(m, x='trial_type', y='correct', dark=dark, light=light, ax=ax)\n",
    "ax.set(\n",
    "    ylim=(-1.05, 1.05), ylabel='Induction bias',\n",
    "    xticklabels=['Central', 'Boundary 1', 'Boundary 2']\n",
    ")\n",
    "x_lim = ax.get_xlim()\n",
    "ax.hlines(0, *x_lim)\n",
    "ax.set_xlim(*x_lim);\n",
    "fig.savefig(os.path.join(fig_dir, 'temporal_bias.pdf'))"
   ]
  }
 ],
 "metadata": {
  "kernelspec": {
   "display_name": "tesser",
   "language": "python",
   "name": "tesser"
  },
  "language_info": {
   "codemirror_mode": {
    "name": "ipython",
    "version": 3
   },
   "file_extension": ".py",
   "mimetype": "text/x-python",
   "name": "python",
   "nbconvert_exporter": "python",
   "pygments_lexer": "ipython3",
   "version": "3.7.7"
  }
 },
 "nbformat": 4,
 "nbformat_minor": 4
}
