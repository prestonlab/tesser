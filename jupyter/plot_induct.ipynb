{
 "cells": [
  {
   "cell_type": "code",
   "execution_count": 1,
   "metadata": {},
   "outputs": [],
   "source": [
    "import os\n",
    "import numpy as np\n",
    "from scipy import stats\n",
    "import matplotlib.pyplot as plt\n",
    "import seaborn as sns\n",
    "import pingouin as pg\n",
    "from mindstorm import statplot\n",
    "from tesser import tasks\n",
    "from tesser import figures\n",
    "\n",
    "main_dir = os.environ['TESSER_DIR']\n",
    "data_dir = os.path.join(main_dir, 'Data')\n",
    "fig_dir = os.path.join(main_dir, 'Figures', 'plots')"
   ]
  },
  {
   "cell_type": "code",
   "execution_count": 2,
   "metadata": {},
   "outputs": [
    {
     "data": {
      "text/html": [
       "<div>\n",
       "<style scoped>\n",
       "    .dataframe tbody tr th:only-of-type {\n",
       "        vertical-align: middle;\n",
       "    }\n",
       "\n",
       "    .dataframe tbody tr th {\n",
       "        vertical-align: top;\n",
       "    }\n",
       "\n",
       "    .dataframe thead th {\n",
       "        text-align: right;\n",
       "    }\n",
       "</style>\n",
       "<table border=\"1\" class=\"dataframe\">\n",
       "  <thead>\n",
       "    <tr style=\"text-align: right;\">\n",
       "      <th></th>\n",
       "      <th>subject</th>\n",
       "      <th>trial</th>\n",
       "      <th>trial_type</th>\n",
       "      <th>environment</th>\n",
       "      <th>community</th>\n",
       "      <th>cue</th>\n",
       "      <th>opt1</th>\n",
       "      <th>opt2</th>\n",
       "      <th>within</th>\n",
       "      <th>response</th>\n",
       "      <th>response_time</th>\n",
       "      <th>correct</th>\n",
       "    </tr>\n",
       "  </thead>\n",
       "  <tbody>\n",
       "    <tr>\n",
       "      <th>0</th>\n",
       "      <td>100</td>\n",
       "      <td>1</td>\n",
       "      <td>central</td>\n",
       "      <td>ocean</td>\n",
       "      <td>1</td>\n",
       "      <td>2</td>\n",
       "      <td>16</td>\n",
       "      <td>20</td>\n",
       "      <td>2</td>\n",
       "      <td>NaN</td>\n",
       "      <td>NaN</td>\n",
       "      <td>NaN</td>\n",
       "    </tr>\n",
       "    <tr>\n",
       "      <th>1</th>\n",
       "      <td>100</td>\n",
       "      <td>2</td>\n",
       "      <td>boundary2</td>\n",
       "      <td>desert</td>\n",
       "      <td>2</td>\n",
       "      <td>4</td>\n",
       "      <td>10</td>\n",
       "      <td>19</td>\n",
       "      <td>1</td>\n",
       "      <td>2.0</td>\n",
       "      <td>2.974157</td>\n",
       "      <td>0.0</td>\n",
       "    </tr>\n",
       "    <tr>\n",
       "      <th>2</th>\n",
       "      <td>100</td>\n",
       "      <td>3</td>\n",
       "      <td>central</td>\n",
       "      <td>desert</td>\n",
       "      <td>2</td>\n",
       "      <td>5</td>\n",
       "      <td>6</td>\n",
       "      <td>2</td>\n",
       "      <td>1</td>\n",
       "      <td>1.0</td>\n",
       "      <td>3.190848</td>\n",
       "      <td>1.0</td>\n",
       "    </tr>\n",
       "    <tr>\n",
       "      <th>3</th>\n",
       "      <td>100</td>\n",
       "      <td>4</td>\n",
       "      <td>central</td>\n",
       "      <td>ocean</td>\n",
       "      <td>1</td>\n",
       "      <td>2</td>\n",
       "      <td>9</td>\n",
       "      <td>19</td>\n",
       "      <td>2</td>\n",
       "      <td>2.0</td>\n",
       "      <td>3.373906</td>\n",
       "      <td>1.0</td>\n",
       "    </tr>\n",
       "    <tr>\n",
       "      <th>4</th>\n",
       "      <td>100</td>\n",
       "      <td>5</td>\n",
       "      <td>central</td>\n",
       "      <td>ocean</td>\n",
       "      <td>1</td>\n",
       "      <td>1</td>\n",
       "      <td>19</td>\n",
       "      <td>13</td>\n",
       "      <td>1</td>\n",
       "      <td>2.0</td>\n",
       "      <td>3.094699</td>\n",
       "      <td>0.0</td>\n",
       "    </tr>\n",
       "  </tbody>\n",
       "</table>\n",
       "</div>"
      ],
      "text/plain": [
       "   subject  trial trial_type environment  community  cue  opt1  opt2  within  \\\n",
       "0      100      1    central       ocean          1    2    16    20       2   \n",
       "1      100      2  boundary2      desert          2    4    10    19       1   \n",
       "2      100      3    central      desert          2    5     6     2       1   \n",
       "3      100      4    central       ocean          1    2     9    19       2   \n",
       "4      100      5    central       ocean          1    1    19    13       1   \n",
       "\n",
       "   response  response_time  correct  \n",
       "0       NaN            NaN      NaN  \n",
       "1       2.0       2.974157      0.0  \n",
       "2       1.0       3.190848      1.0  \n",
       "3       2.0       3.373906      1.0  \n",
       "4       2.0       3.094699      0.0  "
      ]
     },
     "execution_count": 2,
     "metadata": {},
     "output_type": "execute_result"
    }
   ],
   "source": [
    "induct = tasks.load_induct(data_dir)\n",
    "induct.head()"
   ]
  },
  {
   "cell_type": "code",
   "execution_count": 3,
   "metadata": {},
   "outputs": [],
   "source": [
    "bias = (induct.groupby(['subject', 'trial_type'])[['correct']].mean() - .5) * 2\n",
    "bias = bias.reset_index()"
   ]
  },
  {
   "cell_type": "code",
   "execution_count": 4,
   "metadata": {},
   "outputs": [
    {
     "data": {
      "text/html": [
       "<svg  width=\"165\" height=\"55\"><rect x=\"0\" y=\"0\" width=\"55\" height=\"55\" style=\"fill:#147dc8;stroke-width:2;stroke:rgb(255,255,255)\"/><rect x=\"55\" y=\"0\" width=\"55\" height=\"55\" style=\"fill:#00a5a0;stroke-width:2;stroke:rgb(255,255,255)\"/><rect x=\"110\" y=\"0\" width=\"55\" height=\"55\" style=\"fill:#0fae4b;stroke-width:2;stroke:rgb(255,255,255)\"/></svg>"
      ],
      "text/plain": [
       "[(0.078125, 0.48828125, 0.78515625),\n",
       " (0.00022977941176470588, 0.6485753676470588, 0.6275888480392157),\n",
       " (0.05859375, 0.68359375, 0.29296875)]"
      ]
     },
     "execution_count": 4,
     "metadata": {},
     "output_type": "execute_result"
    }
   ],
   "source": [
    "dark = sns.blend_palette(\n",
    "    [\n",
    "        np.array([20, 125, 201]) / 256, \n",
    "        np.array([0, 166, 161]) / 256, \n",
    "        np.array([15, 175, 75]) / 256,\n",
    "    ], n_colors=3\n",
    ")\n",
    "dark"
   ]
  },
  {
   "cell_type": "code",
   "execution_count": 5,
   "metadata": {},
   "outputs": [
    {
     "data": {
      "text/html": [
       "<svg  width=\"165\" height=\"55\"><rect x=\"0\" y=\"0\" width=\"55\" height=\"55\" style=\"fill:#aad3ec;stroke-width:2;stroke:rgb(255,255,255)\"/><rect x=\"55\" y=\"0\" width=\"55\" height=\"55\" style=\"fill:#abeaf1;stroke-width:2;stroke:rgb(255,255,255)\"/><rect x=\"110\" y=\"0\" width=\"55\" height=\"55\" style=\"fill:#a4e7b0;stroke-width:2;stroke:rgb(255,255,255)\"/></svg>"
      ],
      "text/plain": [
       "[(0.66796875, 0.828125, 0.92578125),\n",
       " (0.6717677696078431, 0.9179227941176471, 0.9443167892156863),\n",
       " (0.64453125, 0.90625, 0.69140625)]"
      ]
     },
     "execution_count": 5,
     "metadata": {},
     "output_type": "execute_result"
    }
   ],
   "source": [
    "light = sns.blend_palette(\n",
    "    [\n",
    "        np.array([171, 212, 237]) / 256, \n",
    "        np.array([172, 235, 242]) / 256, \n",
    "        np.array([165, 232, 177]) / 256,\n",
    "    ], n_colors=3\n",
    ")\n",
    "light"
   ]
  },
  {
   "cell_type": "code",
   "execution_count": 6,
   "metadata": {},
   "outputs": [
    {
     "data": {
      "image/png": "[encoded data removed]",
      "text/plain": [
       "<Figure size 288x216 with 1 Axes>"
      ]
     },
     "metadata": {
      "needs_background": "light"
     },
     "output_type": "display_data"
    }
   ],
   "source": [
    "fig, ax = plt.subplots(figsize=(4, 3))\n",
    "statplot.plot_swarm_bar(\n",
    "    bias,\n",
    "    x='trial_type',\n",
    "    y='correct',\n",
    "    dark=dark,\n",
    "    light=light,\n",
    "    point_kws={'clip_on': False},\n",
    "    ax=ax,\n",
    ")\n",
    "ax.set(\n",
    "    ylim=(-1, 1), ylabel='Temporal inference bias',\n",
    "    xticklabels=['Central', 'Boundary\\n1-Away', 'Boundary\\n2-Away']\n",
    ")\n",
    "x_lim = ax.get_xlim()\n",
    "ax.hlines(0, *x_lim)\n",
    "ax.set_xlim(*x_lim);\n",
    "x = sorted([p.get_x() + p.get_width() / 2 for p in ax.patches])\n",
    "y = bias.groupby('trial_type')['correct'].max().to_list()\n",
    "offset = 0.05 * np.diff(ax.get_ylim())\n",
    "ax.set(ylim=(-1, 1.6), yticks=np.arange(-1, 1.25, .25))\n",
    "ax.spines['left'].set_bounds(-1, 1)\n",
    "statplot.plot_sig([x[0], x[1]], [y[0], y[1]], offset, ax=ax)\n",
    "statplot.plot_sig([x[1], x[2]], [y[1], y[2]], offset, ax=ax)\n",
    "statplot.plot_sig([x[0], x[2]], [y[0] + offset * 2, y[2] + offset * 2], offset, ax=ax)\n",
    "ax.yaxis.set_label_coords(-.15, 0.4)\n",
    "fig.savefig(os.path.join(fig_dir, 'temporal_bias.pdf'))"
   ]
  },
  {
   "cell_type": "code",
   "execution_count": 7,
   "metadata": {},
   "outputs": [
    {
     "data": {
      "text/html": [
       "<div>\n",
       "<style scoped>\n",
       "    .dataframe tbody tr th:only-of-type {\n",
       "        vertical-align: middle;\n",
       "    }\n",
       "\n",
       "    .dataframe tbody tr th {\n",
       "        vertical-align: top;\n",
       "    }\n",
       "\n",
       "    .dataframe thead th {\n",
       "        text-align: right;\n",
       "    }\n",
       "</style>\n",
       "<table border=\"1\" class=\"dataframe\">\n",
       "  <thead>\n",
       "    <tr style=\"text-align: right;\">\n",
       "      <th></th>\n",
       "      <th>Source</th>\n",
       "      <th>ddof1</th>\n",
       "      <th>ddof2</th>\n",
       "      <th>F</th>\n",
       "      <th>p-unc</th>\n",
       "      <th>np2</th>\n",
       "      <th>eps</th>\n",
       "    </tr>\n",
       "  </thead>\n",
       "  <tbody>\n",
       "    <tr>\n",
       "      <th>0</th>\n",
       "      <td>trial_type</td>\n",
       "      <td>2</td>\n",
       "      <td>72</td>\n",
       "      <td>14.270354</td>\n",
       "      <td>0.000006</td>\n",
       "      <td>0.283872</td>\n",
       "      <td>0.88351</td>\n",
       "    </tr>\n",
       "  </tbody>\n",
       "</table>\n",
       "</div>"
      ],
      "text/plain": [
       "       Source  ddof1  ddof2          F     p-unc       np2      eps\n",
       "0  trial_type      2     72  14.270354  0.000006  0.283872  0.88351"
      ]
     },
     "execution_count": 7,
     "metadata": {},
     "output_type": "execute_result"
    }
   ],
   "source": [
    "pg.rm_anova(data=bias, dv='correct', within='trial_type', subject='subject')"
   ]
  },
  {
   "cell_type": "code",
   "execution_count": 8,
   "metadata": {},
   "outputs": [
    {
     "data": {
      "text/html": [
       "<div>\n",
       "<style scoped>\n",
       "    .dataframe tbody tr th:only-of-type {\n",
       "        vertical-align: middle;\n",
       "    }\n",
       "\n",
       "    .dataframe tbody tr th {\n",
       "        vertical-align: top;\n",
       "    }\n",
       "\n",
       "    .dataframe thead th {\n",
       "        text-align: right;\n",
       "    }\n",
       "</style>\n",
       "<table border=\"1\" class=\"dataframe\">\n",
       "  <thead>\n",
       "    <tr style=\"text-align: right;\">\n",
       "      <th></th>\n",
       "      <th>Contrast</th>\n",
       "      <th>A</th>\n",
       "      <th>B</th>\n",
       "      <th>Paired</th>\n",
       "      <th>Parametric</th>\n",
       "      <th>T</th>\n",
       "      <th>dof</th>\n",
       "      <th>Tail</th>\n",
       "      <th>p-unc</th>\n",
       "      <th>p-corr</th>\n",
       "      <th>p-adjust</th>\n",
       "      <th>BF10</th>\n",
       "      <th>hedges</th>\n",
       "    </tr>\n",
       "  </thead>\n",
       "  <tbody>\n",
       "    <tr>\n",
       "      <th>0</th>\n",
       "      <td>trial_type</td>\n",
       "      <td>boundary1</td>\n",
       "      <td>boundary2</td>\n",
       "      <td>True</td>\n",
       "      <td>True</td>\n",
       "      <td>-4.735596</td>\n",
       "      <td>36.0</td>\n",
       "      <td>two-sided</td>\n",
       "      <td>0.000034</td>\n",
       "      <td>0.000101</td>\n",
       "      <td>fdr_bh</td>\n",
       "      <td>669.792</td>\n",
       "      <td>-0.909924</td>\n",
       "    </tr>\n",
       "    <tr>\n",
       "      <th>1</th>\n",
       "      <td>trial_type</td>\n",
       "      <td>boundary1</td>\n",
       "      <td>central</td>\n",
       "      <td>True</td>\n",
       "      <td>True</td>\n",
       "      <td>-3.297114</td>\n",
       "      <td>36.0</td>\n",
       "      <td>two-sided</td>\n",
       "      <td>0.002204</td>\n",
       "      <td>0.003306</td>\n",
       "      <td>fdr_bh</td>\n",
       "      <td>15.542</td>\n",
       "      <td>-0.546255</td>\n",
       "    </tr>\n",
       "    <tr>\n",
       "      <th>2</th>\n",
       "      <td>trial_type</td>\n",
       "      <td>boundary2</td>\n",
       "      <td>central</td>\n",
       "      <td>True</td>\n",
       "      <td>True</td>\n",
       "      <td>2.581411</td>\n",
       "      <td>36.0</td>\n",
       "      <td>two-sided</td>\n",
       "      <td>0.014059</td>\n",
       "      <td>0.014059</td>\n",
       "      <td>fdr_bh</td>\n",
       "      <td>3.14</td>\n",
       "      <td>0.528246</td>\n",
       "    </tr>\n",
       "  </tbody>\n",
       "</table>\n",
       "</div>"
      ],
      "text/plain": [
       "     Contrast          A          B  Paired  Parametric         T   dof  \\\n",
       "0  trial_type  boundary1  boundary2    True        True -4.735596  36.0   \n",
       "1  trial_type  boundary1    central    True        True -3.297114  36.0   \n",
       "2  trial_type  boundary2    central    True        True  2.581411  36.0   \n",
       "\n",
       "        Tail     p-unc    p-corr p-adjust     BF10    hedges  \n",
       "0  two-sided  0.000034  0.000101   fdr_bh  669.792 -0.909924  \n",
       "1  two-sided  0.002204  0.003306   fdr_bh   15.542 -0.546255  \n",
       "2  two-sided  0.014059  0.014059   fdr_bh     3.14  0.528246  "
      ]
     },
     "execution_count": 8,
     "metadata": {},
     "output_type": "execute_result"
    }
   ],
   "source": [
    "pg.pairwise_ttests(data=bias, dv='correct', within='trial_type', subject='subject', padjust='fdr_bh')"
   ]
  },
  {
   "cell_type": "code",
   "execution_count": 9,
   "metadata": {},
   "outputs": [
    {
     "name": "stdout",
     "output_type": "stream",
     "text": [
      "Python implementation: CPython\n",
      "Python version       : 3.7.6\n",
      "IPython version      : 7.11.1\n",
      "\n",
      "mindstorm : 0.8.0\n",
      "matplotlib: 3.1.3\n",
      "pingouin  : 0.3.11\n",
      "seaborn   : 0.11.1\n",
      "scipy     : 1.4.1\n",
      "numpy     : 1.18.1\n",
      "tesser    : 0.1.0\n",
      "\n"
     ]
    }
   ],
   "source": [
    "%load_ext watermark\n",
    "%watermark -v -iv"
   ]
  }
 ],
 "metadata": {
  "kernelspec": {
   "display_name": "tesser",
   "language": "python",
   "name": "tesser"
  },
  "language_info": {
   "codemirror_mode": {
    "name": "ipython",
    "version": 3
   },
   "file_extension": ".py",
   "mimetype": "text/x-python",
   "name": "python",
   "nbconvert_exporter": "python",
   "pygments_lexer": "ipython3",
   "version": "3.7.6"
  }
 },
 "nbformat": 4,
 "nbformat_minor": 4
}
