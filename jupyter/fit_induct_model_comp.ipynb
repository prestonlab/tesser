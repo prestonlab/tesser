{
 "cells": [
  {
   "cell_type": "code",
   "execution_count": 1,
   "metadata": {},
   "outputs": [],
   "source": [
    "import os\n",
    "import pandas as pd\n",
    "\n",
    "from tesser import model\n",
    "\n",
    "main_dir = os.environ['TESSER_DIR']\n",
    "data_dir = os.path.join(main_dir, 'Data')\n",
    "fig_dir = os.path.join(main_dir, 'Figures', 'model')"
   ]
  },
  {
   "cell_type": "code",
   "execution_count": 2,
   "metadata": {
    "tags": []
   },
   "outputs": [],
   "source": [
    "model_specs = ['comm-g', 'sr-g_a10', 'sr-comm-gqw_a10']\n",
    "model_names = ['C', 'SR', 'SR-C']\n",
    "results = pd.concat(\n",
    "    [\n",
    "        pd.read_csv(os.path.join(fig_dir, name, 'fit.csv'), index_col=None) for name in model_specs\n",
    "    ], keys=model_names\n",
    ")\n",
    "results = results.reset_index(1, drop=True)"
   ]
  },
  {
   "cell_type": "code",
   "execution_count": 3,
   "metadata": {},
   "outputs": [
    {
     "data": {
      "text/html": [
       "<div>\n",
       "<style scoped>\n",
       "    .dataframe tbody tr th:only-of-type {\n",
       "        vertical-align: middle;\n",
       "    }\n",
       "\n",
       "    .dataframe tbody tr th {\n",
       "        vertical-align: top;\n",
       "    }\n",
       "\n",
       "    .dataframe thead th {\n",
       "        text-align: right;\n",
       "    }\n",
       "</style>\n",
       "<table border=\"1\" class=\"dataframe\">\n",
       "  <thead>\n",
       "    <tr style=\"text-align: right;\">\n",
       "      <th></th>\n",
       "      <th>rep</th>\n",
       "      <th>logl</th>\n",
       "      <th>n</th>\n",
       "      <th>k</th>\n",
       "      <th>tau</th>\n",
       "      <th>alpha</th>\n",
       "      <th>gamma</th>\n",
       "      <th>w1</th>\n",
       "      <th>w2</th>\n",
       "      <th>w3</th>\n",
       "      <th>aic</th>\n",
       "      <th>waic</th>\n",
       "    </tr>\n",
       "  </thead>\n",
       "  <tbody>\n",
       "    <tr>\n",
       "      <th>C</th>\n",
       "      <td>6</td>\n",
       "      <td>-1352.282928</td>\n",
       "      <td>1554</td>\n",
       "      <td>1</td>\n",
       "      <td>2.654647</td>\n",
       "      <td>NaN</td>\n",
       "      <td>NaN</td>\n",
       "      <td>NaN</td>\n",
       "      <td>NaN</td>\n",
       "      <td>NaN</td>\n",
       "      <td>2706.568433</td>\n",
       "      <td>0.011327</td>\n",
       "    </tr>\n",
       "    <tr>\n",
       "      <th>SR</th>\n",
       "      <td>3</td>\n",
       "      <td>-1356.573681</td>\n",
       "      <td>1554</td>\n",
       "      <td>2</td>\n",
       "      <td>1.337324</td>\n",
       "      <td>0.1</td>\n",
       "      <td>1.000000</td>\n",
       "      <td>NaN</td>\n",
       "      <td>NaN</td>\n",
       "      <td>NaN</td>\n",
       "      <td>2717.155100</td>\n",
       "      <td>0.000057</td>\n",
       "    </tr>\n",
       "    <tr>\n",
       "      <th>SR-C</th>\n",
       "      <td>6</td>\n",
       "      <td>-1343.795727</td>\n",
       "      <td>1554</td>\n",
       "      <td>5</td>\n",
       "      <td>1.392232</td>\n",
       "      <td>0.1</td>\n",
       "      <td>0.974241</td>\n",
       "      <td>0.804044</td>\n",
       "      <td>1.0</td>\n",
       "      <td>0.0</td>\n",
       "      <td>2697.630213</td>\n",
       "      <td>0.988616</td>\n",
       "    </tr>\n",
       "  </tbody>\n",
       "</table>\n",
       "</div>"
      ],
      "text/plain": [
       "      rep         logl     n  k       tau  alpha     gamma        w1   w2  \\\n",
       "C       6 -1352.282928  1554  1  2.654647    NaN       NaN       NaN  NaN   \n",
       "SR      3 -1356.573681  1554  2  1.337324    0.1  1.000000       NaN  NaN   \n",
       "SR-C    6 -1343.795727  1554  5  1.392232    0.1  0.974241  0.804044  1.0   \n",
       "\n",
       "       w3          aic      waic  \n",
       "C     NaN  2706.568433  0.011327  \n",
       "SR    NaN  2717.155100  0.000057  \n",
       "SR-C  0.0  2697.630213  0.988616  "
      ]
     },
     "execution_count": 3,
     "metadata": {},
     "output_type": "execute_result"
    }
   ],
   "source": [
    "results['aic'] = model.aic(results['logl'], results['n'], results['k'])\n",
    "results['waic'] = model.waic(results['aic'].to_numpy(), axis=0)\n",
    "results.to_csv(os.path.join(fig_dir, 'model_comp.csv'))\n",
    "results"
   ]
  }
 ],
 "metadata": {
  "kernelspec": {
   "display_name": "tesser",
   "language": "python",
   "name": "tesser"
  },
  "language_info": {
   "codemirror_mode": {
    "name": "ipython",
    "version": 3
   },
   "file_extension": ".py",
   "mimetype": "text/x-python",
   "name": "python",
   "nbconvert_exporter": "python",
   "pygments_lexer": "ipython3",
   "version": "3.7.11"
  }
 },
 "nbformat": 4,
 "nbformat_minor": 4
}
