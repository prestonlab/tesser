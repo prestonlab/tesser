{
 "cells": [
  {
   "cell_type": "code",
   "execution_count": 5,
   "metadata": {},
   "outputs": [],
   "source": [
    "import os\n",
    "import numpy as np\n",
    "import matplotlib.pyplot as plt\n",
    "import pandas as pd\n",
    "import seaborn as sns\n",
    "import pingouin as pg\n",
    "from mindstorm import dsmplot\n",
    "from mindstorm import statplot\n",
    "from tesser import tasks\n",
    "from tesser import network\n",
    "from tesser import model\n",
    "from tesser import figures\n",
    "\n",
    "main_dir = os.environ['TESSER_DIR']\n",
    "data_dir = os.path.join(main_dir, 'Data')\n",
    "fig_dir = os.path.join(main_dir, 'Figures', 'plots')"
   ]
  },
  {
   "cell_type": "code",
   "execution_count": 2,
   "metadata": {},
   "outputs": [],
   "source": [
    "struct = tasks.load_struct(data_dir)\n",
    "induct = tasks.load_induct(data_dir)"
   ]
  },
  {
   "cell_type": "code",
   "execution_count": 3,
   "metadata": {},
   "outputs": [],
   "source": [
    "nodes = network.node_info()\n",
    "comm = nodes['community'].to_numpy()\n",
    "within_mat = (comm == comm[:, None]).astype(float)"
   ]
  },
  {
   "cell_type": "code",
   "execution_count": 4,
   "metadata": {},
   "outputs": [],
   "source": [
    "fixed = {'alpha': 0.1}\n",
    "var_names = ['gamma', 'w1', 'w2', 'w3', 'tau']\n",
    "var_bounds = {\n",
    "    'alpha': [0, 1],\n",
    "    'gamma': [0, 1],\n",
    "    'tau': [0, 10],\n",
    "    'w1': [0, 1],\n",
    "    'w2': [0, 1],\n",
    "    'w3': [0, 1],\n",
    "}\n",
    "sim1_spec = {'alpha': 'alpha', 'gamma': 'gamma'}\n",
    "sim2_spec = {'sim': within_mat}\n",
    "question_param = {\n",
    "    'central': {'w': 'w1'}, 'boundary1': {'w': 'w2'}, 'boundary2': {'w': 'w3'}\n",
    "}\n",
    "full_results = model.fit_induct(\n",
    "    struct,\n",
    "    induct,\n",
    "    fixed,\n",
    "    var_names,\n",
    "    var_bounds,\n",
    "    sim1_spec,\n",
    "    sim2_spec=sim2_spec,\n",
    "    question_param=question_param,\n",
    "    n_job=6,\n",
    "    n_rep=5,\n",
    ")"
   ]
  },
  {
   "cell_type": "code",
   "execution_count": 5,
   "metadata": {},
   "outputs": [
    {
     "data": {
      "text/html": [
       "<div>\n",
       "<style scoped>\n",
       "    .dataframe tbody tr th:only-of-type {\n",
       "        vertical-align: middle;\n",
       "    }\n",
       "\n",
       "    .dataframe tbody tr th {\n",
       "        vertical-align: top;\n",
       "    }\n",
       "\n",
       "    .dataframe thead th {\n",
       "        text-align: right;\n",
       "    }\n",
       "</style>\n",
       "<table border=\"1\" class=\"dataframe\">\n",
       "  <thead>\n",
       "    <tr style=\"text-align: right;\">\n",
       "      <th></th>\n",
       "      <th>logl</th>\n",
       "      <th>n</th>\n",
       "      <th>k</th>\n",
       "      <th>alpha</th>\n",
       "      <th>gamma</th>\n",
       "      <th>w1</th>\n",
       "      <th>w2</th>\n",
       "      <th>w3</th>\n",
       "      <th>tau</th>\n",
       "    </tr>\n",
       "    <tr>\n",
       "      <th>rep</th>\n",
       "      <th></th>\n",
       "      <th></th>\n",
       "      <th></th>\n",
       "      <th></th>\n",
       "      <th></th>\n",
       "      <th></th>\n",
       "      <th></th>\n",
       "      <th></th>\n",
       "      <th></th>\n",
       "    </tr>\n",
       "  </thead>\n",
       "  <tbody>\n",
       "    <tr>\n",
       "      <th>0</th>\n",
       "      <td>-1042.021088</td>\n",
       "      <td>1554</td>\n",
       "      <td>5</td>\n",
       "      <td>0.1</td>\n",
       "      <td>0.000000</td>\n",
       "      <td>0.565584</td>\n",
       "      <td>0.997743</td>\n",
       "      <td>0.0</td>\n",
       "      <td>1.308601</td>\n",
       "    </tr>\n",
       "    <tr>\n",
       "      <th>1</th>\n",
       "      <td>-1042.021088</td>\n",
       "      <td>1554</td>\n",
       "      <td>5</td>\n",
       "      <td>0.1</td>\n",
       "      <td>0.000000</td>\n",
       "      <td>0.565640</td>\n",
       "      <td>0.997782</td>\n",
       "      <td>0.0</td>\n",
       "      <td>1.308565</td>\n",
       "    </tr>\n",
       "    <tr>\n",
       "      <th>2</th>\n",
       "      <td>-1042.021088</td>\n",
       "      <td>1554</td>\n",
       "      <td>5</td>\n",
       "      <td>0.1</td>\n",
       "      <td>0.000000</td>\n",
       "      <td>0.565621</td>\n",
       "      <td>0.997747</td>\n",
       "      <td>0.0</td>\n",
       "      <td>1.308577</td>\n",
       "    </tr>\n",
       "    <tr>\n",
       "      <th>3</th>\n",
       "      <td>-1041.649144</td>\n",
       "      <td>1554</td>\n",
       "      <td>5</td>\n",
       "      <td>0.1</td>\n",
       "      <td>0.982935</td>\n",
       "      <td>0.787874</td>\n",
       "      <td>1.000000</td>\n",
       "      <td>0.0</td>\n",
       "      <td>1.429575</td>\n",
       "    </tr>\n",
       "    <tr>\n",
       "      <th>4</th>\n",
       "      <td>-1042.021088</td>\n",
       "      <td>1554</td>\n",
       "      <td>5</td>\n",
       "      <td>0.1</td>\n",
       "      <td>0.000000</td>\n",
       "      <td>0.565619</td>\n",
       "      <td>0.997747</td>\n",
       "      <td>0.0</td>\n",
       "      <td>1.308577</td>\n",
       "    </tr>\n",
       "  </tbody>\n",
       "</table>\n",
       "</div>"
      ],
      "text/plain": [
       "            logl     n  k  alpha     gamma        w1        w2   w3       tau\n",
       "rep                                                                          \n",
       "0   -1042.021088  1554  5    0.1  0.000000  0.565584  0.997743  0.0  1.308601\n",
       "1   -1042.021088  1554  5    0.1  0.000000  0.565640  0.997782  0.0  1.308565\n",
       "2   -1042.021088  1554  5    0.1  0.000000  0.565621  0.997747  0.0  1.308577\n",
       "3   -1041.649144  1554  5    0.1  0.982935  0.787874  1.000000  0.0  1.429575\n",
       "4   -1042.021088  1554  5    0.1  0.000000  0.565619  0.997747  0.0  1.308577"
      ]
     },
     "execution_count": 5,
     "metadata": {},
     "output_type": "execute_result"
    }
   ],
   "source": [
    "full_results"
   ]
  },
  {
   "cell_type": "code",
   "execution_count": 6,
   "metadata": {},
   "outputs": [
    {
     "data": {
      "text/html": [
       "<div>\n",
       "<style scoped>\n",
       "    .dataframe tbody tr th:only-of-type {\n",
       "        vertical-align: middle;\n",
       "    }\n",
       "\n",
       "    .dataframe tbody tr th {\n",
       "        vertical-align: top;\n",
       "    }\n",
       "\n",
       "    .dataframe thead th {\n",
       "        text-align: right;\n",
       "    }\n",
       "</style>\n",
       "<table border=\"1\" class=\"dataframe\">\n",
       "  <thead>\n",
       "    <tr style=\"text-align: right;\">\n",
       "      <th></th>\n",
       "      <th>logl</th>\n",
       "      <th>n</th>\n",
       "      <th>k</th>\n",
       "      <th>alpha</th>\n",
       "      <th>gamma</th>\n",
       "      <th>w1</th>\n",
       "      <th>w2</th>\n",
       "      <th>w3</th>\n",
       "      <th>tau</th>\n",
       "    </tr>\n",
       "    <tr>\n",
       "      <th>rep</th>\n",
       "      <th></th>\n",
       "      <th></th>\n",
       "      <th></th>\n",
       "      <th></th>\n",
       "      <th></th>\n",
       "      <th></th>\n",
       "      <th></th>\n",
       "      <th></th>\n",
       "      <th></th>\n",
       "    </tr>\n",
       "  </thead>\n",
       "  <tbody>\n",
       "    <tr>\n",
       "      <th>3</th>\n",
       "      <td>-1041.649144</td>\n",
       "      <td>1554</td>\n",
       "      <td>5</td>\n",
       "      <td>0.1</td>\n",
       "      <td>0.982935</td>\n",
       "      <td>0.787874</td>\n",
       "      <td>1.0</td>\n",
       "      <td>0.0</td>\n",
       "      <td>1.429575</td>\n",
       "    </tr>\n",
       "  </tbody>\n",
       "</table>\n",
       "</div>"
      ],
      "text/plain": [
       "            logl     n  k  alpha     gamma        w1   w2   w3       tau\n",
       "rep                                                                     \n",
       "3   -1041.649144  1554  5    0.1  0.982935  0.787874  1.0  0.0  1.429575"
      ]
     },
     "execution_count": 6,
     "metadata": {},
     "output_type": "execute_result"
    }
   ],
   "source": [
    "results = model.get_best_results(full_results)\n",
    "results"
   ]
  },
  {
   "cell_type": "code",
   "execution_count": 47,
   "metadata": {},
   "outputs": [
    {
     "data": {
      "text/plain": [
       "'0.00000000000000000000'"
      ]
     },
     "execution_count": 47,
     "metadata": {},
     "output_type": "execute_result"
    }
   ],
   "source": [
    "f'{results.loc[3, \"w3\"]:.20f}'"
   ]
  },
  {
   "cell_type": "code",
   "execution_count": 112,
   "metadata": {},
   "outputs": [
    {
     "data": {
      "image/png": "[encoded data removed]",
      "text/plain": [
       "<Figure size 216x216 with 2 Axes>"
      ]
     },
     "metadata": {
      "needs_background": "light"
     },
     "output_type": "display_data"
    }
   ],
   "source": [
    "s1 = struct.query('subject == 100')\n",
    "sr = model.learn_struct_sr(s1, results['gamma'], results['alpha'], 21)\n",
    "\n",
    "fig, ax = plt.subplots(figsize=(3, 3))\n",
    "h = dsmplot.plot_dsm(sr, prange=(0, 100), checks=False, ax=ax);\n",
    "fig.colorbar(h, location='bottom', shrink=0.677);\n",
    "ax = plt.gca()\n",
    "ax.set_axis_on()\n",
    "ax.spines['right'].set_visible(True)\n",
    "ax.spines['top'].set_visible(True)\n",
    "ax.tick_params('both', bottom=False, left=False, labelbottom=False, labelleft=False)\n",
    "ax.set_xlabel('Inference object', size='large')\n",
    "ax.set_ylabel('Cue object', size='large')\n",
    "plt.savefig(os.path.join(fig_dir, 'temporal_bias_model-sr-comm-qw_a10_t10_sr.pdf'))"
   ]
  },
  {
   "cell_type": "code",
   "execution_count": 10,
   "metadata": {},
   "outputs": [
    {
     "data": {
      "image/png": "[encoded data removed]",
      "text/plain": [
       "<Figure size 216x216 with 1 Axes>"
      ]
     },
     "metadata": {
      "needs_background": "light"
     },
     "output_type": "display_data"
    }
   ],
   "source": [
    "from tesser import tasks\n",
    "s1 = tasks.load_struct(data_dir, [100])\n",
    "sr = model.learn_struct_sr(s1, 0.99, 0.001, 21)\n",
    "fig, ax = plt.subplots(figsize=(3, 3))\n",
    "h = dsmplot.plot_dsm(sr, prange=(0, 100), checks=False, ax=ax);"
   ]
  },
  {
   "cell_type": "code",
   "execution_count": 114,
   "metadata": {},
   "outputs": [
    {
     "data": {
      "image/png": "[encoded data removed]",
      "text/plain": [
       "<Figure size 216x216 with 2 Axes>"
      ]
     },
     "metadata": {
      "needs_background": "light"
     },
     "output_type": "display_data"
    }
   ],
   "source": [
    "fig, ax = plt.subplots(figsize=(3, 3))\n",
    "h = dsmplot.plot_dsm(within_mat, prange=(0, 100), checks=False, ax=ax)\n",
    "fig.colorbar(h, location='bottom', shrink=0.677);\n",
    "ax = plt.gca()\n",
    "ax.set_axis_on()\n",
    "ax.spines['right'].set_visible(True)\n",
    "ax.spines['top'].set_visible(True)\n",
    "ax.tick_params('both', bottom=False, left=False, labelbottom=False, labelleft=False)\n",
    "ax.set_xlabel('Inference object', size='large')\n",
    "ax.set_ylabel('Cue object', size='large')\n",
    "plt.savefig(os.path.join(fig_dir, 'temporal_bias_model_within.pdf'))"
   ]
  },
  {
   "cell_type": "code",
   "execution_count": 19,
   "metadata": {},
   "outputs": [
    {
     "data": {
      "text/html": [
       "<div>\n",
       "<style scoped>\n",
       "    .dataframe tbody tr th:only-of-type {\n",
       "        vertical-align: middle;\n",
       "    }\n",
       "\n",
       "    .dataframe tbody tr th {\n",
       "        vertical-align: top;\n",
       "    }\n",
       "\n",
       "    .dataframe thead th {\n",
       "        text-align: right;\n",
       "    }\n",
       "</style>\n",
       "<table border=\"1\" class=\"dataframe\">\n",
       "  <thead>\n",
       "    <tr style=\"text-align: right;\">\n",
       "      <th></th>\n",
       "      <th>subject</th>\n",
       "      <th>trial</th>\n",
       "      <th>trial_type</th>\n",
       "      <th>environment</th>\n",
       "      <th>community</th>\n",
       "      <th>cue</th>\n",
       "      <th>opt1</th>\n",
       "      <th>opt2</th>\n",
       "      <th>within</th>\n",
       "      <th>response</th>\n",
       "      <th>response_time</th>\n",
       "      <th>correct</th>\n",
       "      <th>prob</th>\n",
       "    </tr>\n",
       "  </thead>\n",
       "  <tbody>\n",
       "    <tr>\n",
       "      <th>0</th>\n",
       "      <td>100</td>\n",
       "      <td>1</td>\n",
       "      <td>central</td>\n",
       "      <td>ocean</td>\n",
       "      <td>1</td>\n",
       "      <td>2</td>\n",
       "      <td>16</td>\n",
       "      <td>20</td>\n",
       "      <td>2</td>\n",
       "      <td>NaN</td>\n",
       "      <td>NaN</td>\n",
       "      <td>NaN</td>\n",
       "      <td>0.999084</td>\n",
       "    </tr>\n",
       "    <tr>\n",
       "      <th>1</th>\n",
       "      <td>100</td>\n",
       "      <td>2</td>\n",
       "      <td>boundary2</td>\n",
       "      <td>desert</td>\n",
       "      <td>2</td>\n",
       "      <td>4</td>\n",
       "      <td>10</td>\n",
       "      <td>19</td>\n",
       "      <td>1</td>\n",
       "      <td>2.0</td>\n",
       "      <td>2.974157</td>\n",
       "      <td>0.0</td>\n",
       "      <td>0.000045</td>\n",
       "    </tr>\n",
       "    <tr>\n",
       "      <th>2</th>\n",
       "      <td>100</td>\n",
       "      <td>3</td>\n",
       "      <td>central</td>\n",
       "      <td>desert</td>\n",
       "      <td>2</td>\n",
       "      <td>5</td>\n",
       "      <td>6</td>\n",
       "      <td>2</td>\n",
       "      <td>1</td>\n",
       "      <td>1.0</td>\n",
       "      <td>3.190848</td>\n",
       "      <td>1.0</td>\n",
       "      <td>0.995772</td>\n",
       "    </tr>\n",
       "    <tr>\n",
       "      <th>3</th>\n",
       "      <td>100</td>\n",
       "      <td>4</td>\n",
       "      <td>central</td>\n",
       "      <td>ocean</td>\n",
       "      <td>1</td>\n",
       "      <td>2</td>\n",
       "      <td>9</td>\n",
       "      <td>19</td>\n",
       "      <td>2</td>\n",
       "      <td>2.0</td>\n",
       "      <td>3.373906</td>\n",
       "      <td>1.0</td>\n",
       "      <td>0.998858</td>\n",
       "    </tr>\n",
       "    <tr>\n",
       "      <th>4</th>\n",
       "      <td>100</td>\n",
       "      <td>5</td>\n",
       "      <td>central</td>\n",
       "      <td>ocean</td>\n",
       "      <td>1</td>\n",
       "      <td>1</td>\n",
       "      <td>19</td>\n",
       "      <td>13</td>\n",
       "      <td>1</td>\n",
       "      <td>2.0</td>\n",
       "      <td>3.094699</td>\n",
       "      <td>0.0</td>\n",
       "      <td>0.000436</td>\n",
       "    </tr>\n",
       "    <tr>\n",
       "      <th>...</th>\n",
       "      <td>...</td>\n",
       "      <td>...</td>\n",
       "      <td>...</td>\n",
       "      <td>...</td>\n",
       "      <td>...</td>\n",
       "      <td>...</td>\n",
       "      <td>...</td>\n",
       "      <td>...</td>\n",
       "      <td>...</td>\n",
       "      <td>...</td>\n",
       "      <td>...</td>\n",
       "      <td>...</td>\n",
       "      <td>...</td>\n",
       "    </tr>\n",
       "    <tr>\n",
       "      <th>1549</th>\n",
       "      <td>138</td>\n",
       "      <td>38</td>\n",
       "      <td>central</td>\n",
       "      <td>desert</td>\n",
       "      <td>2</td>\n",
       "      <td>8</td>\n",
       "      <td>9</td>\n",
       "      <td>21</td>\n",
       "      <td>1</td>\n",
       "      <td>2.0</td>\n",
       "      <td>2.025821</td>\n",
       "      <td>0.0</td>\n",
       "      <td>0.035246</td>\n",
       "    </tr>\n",
       "    <tr>\n",
       "      <th>1550</th>\n",
       "      <td>138</td>\n",
       "      <td>39</td>\n",
       "      <td>central</td>\n",
       "      <td>forest</td>\n",
       "      <td>3</td>\n",
       "      <td>14</td>\n",
       "      <td>19</td>\n",
       "      <td>15</td>\n",
       "      <td>2</td>\n",
       "      <td>2.0</td>\n",
       "      <td>1.997691</td>\n",
       "      <td>1.0</td>\n",
       "      <td>0.993856</td>\n",
       "    </tr>\n",
       "    <tr>\n",
       "      <th>1551</th>\n",
       "      <td>138</td>\n",
       "      <td>40</td>\n",
       "      <td>central</td>\n",
       "      <td>ocean</td>\n",
       "      <td>1</td>\n",
       "      <td>21</td>\n",
       "      <td>14</td>\n",
       "      <td>2</td>\n",
       "      <td>2</td>\n",
       "      <td>2.0</td>\n",
       "      <td>1.114204</td>\n",
       "      <td>1.0</td>\n",
       "      <td>0.998878</td>\n",
       "    </tr>\n",
       "    <tr>\n",
       "      <th>1552</th>\n",
       "      <td>138</td>\n",
       "      <td>41</td>\n",
       "      <td>boundary1</td>\n",
       "      <td>forest</td>\n",
       "      <td>3</td>\n",
       "      <td>11</td>\n",
       "      <td>10</td>\n",
       "      <td>16</td>\n",
       "      <td>2</td>\n",
       "      <td>1.0</td>\n",
       "      <td>0.623270</td>\n",
       "      <td>0.0</td>\n",
       "      <td>0.021609</td>\n",
       "    </tr>\n",
       "    <tr>\n",
       "      <th>1553</th>\n",
       "      <td>138</td>\n",
       "      <td>42</td>\n",
       "      <td>central</td>\n",
       "      <td>ocean</td>\n",
       "      <td>1</td>\n",
       "      <td>19</td>\n",
       "      <td>20</td>\n",
       "      <td>9</td>\n",
       "      <td>1</td>\n",
       "      <td>1.0</td>\n",
       "      <td>0.830349</td>\n",
       "      <td>1.0</td>\n",
       "      <td>0.999660</td>\n",
       "    </tr>\n",
       "  </tbody>\n",
       "</table>\n",
       "<p>1554 rows × 13 columns</p>\n",
       "</div>"
      ],
      "text/plain": [
       "      subject  trial trial_type environment  community  cue  opt1  opt2  \\\n",
       "0         100      1    central       ocean          1    2    16    20   \n",
       "1         100      2  boundary2      desert          2    4    10    19   \n",
       "2         100      3    central      desert          2    5     6     2   \n",
       "3         100      4    central       ocean          1    2     9    19   \n",
       "4         100      5    central       ocean          1    1    19    13   \n",
       "...       ...    ...        ...         ...        ...  ...   ...   ...   \n",
       "1549      138     38    central      desert          2    8     9    21   \n",
       "1550      138     39    central      forest          3   14    19    15   \n",
       "1551      138     40    central       ocean          1   21    14     2   \n",
       "1552      138     41  boundary1      forest          3   11    10    16   \n",
       "1553      138     42    central       ocean          1   19    20     9   \n",
       "\n",
       "      within  response  response_time  correct      prob  \n",
       "0          2       NaN            NaN      NaN  0.999084  \n",
       "1          1       2.0       2.974157      0.0  0.000045  \n",
       "2          1       1.0       3.190848      1.0  0.995772  \n",
       "3          2       2.0       3.373906      1.0  0.998858  \n",
       "4          1       2.0       3.094699      0.0  0.000436  \n",
       "...      ...       ...            ...      ...       ...  \n",
       "1549       1       2.0       2.025821      0.0  0.035246  \n",
       "1550       2       2.0       1.997691      1.0  0.993856  \n",
       "1551       2       2.0       1.114204      1.0  0.998878  \n",
       "1552       2       1.0       0.623270      0.0  0.021609  \n",
       "1553       1       1.0       0.830349      1.0  0.999660  \n",
       "\n",
       "[1554 rows x 13 columns]"
      ]
     },
     "execution_count": 19,
     "metadata": {},
     "output_type": "execute_result"
    }
   ],
   "source": [
    "temp = results.copy()\n",
    "temp['tau'] = .1\n",
    "stats = model.get_fitted_prob(\n",
    "    temp,\n",
    "    induct,\n",
    "    struct,\n",
    "    sim1_spec,\n",
    "    sim2_spec=sim2_spec,\n",
    "    question_param=question_param,\n",
    ")\n",
    "stats"
   ]
  },
  {
   "cell_type": "code",
   "execution_count": 67,
   "metadata": {},
   "outputs": [
    {
     "data": {
      "image/png": "[encoded data removed]",
      "text/plain": [
       "<Figure size 216x216 with 1 Axes>"
      ]
     },
     "metadata": {
      "needs_background": "light"
     },
     "output_type": "display_data"
    }
   ],
   "source": [
    "colors = figures.get_induct_colors()\n",
    "rm = results.melt(value_vars=['w1', 'w2', 'w3'], var_name='parameter')\n",
    "fig, ax = plt.subplots(figsize=(3, 3))\n",
    "sns.barplot(\n",
    "    data=rm,\n",
    "    x='parameter',\n",
    "    y='value',\n",
    "    dodge=True,\n",
    "    palette=colors['light'],\n",
    "    edgecolor='k',\n",
    "    linewidth=0.75,\n",
    "    ax=ax,\n",
    ");\n",
    "ax.set(\n",
    "    ylabel='Successor representation weight',\n",
    "    xlabel='',\n",
    "    ylim=(0, 1),\n",
    "    xticklabels=['Central', 'Boundary\\n1-Away', 'Boundary\\n2-Away'],\n",
    ")\n",
    "ax.tick_params(axis='x', labelsize='large');\n",
    "fig.savefig(os.path.join(fig_dir, 'temporal_bias_param-sr-comm-qw_a10_t10.pdf'))"
   ]
  },
  {
   "cell_type": "code",
   "execution_count": 20,
   "metadata": {},
   "outputs": [
    {
     "data": {
      "image/png": "[encoded data removed]",
      "text/plain": [
       "<Figure size 442.625x360 with 1 Axes>"
      ]
     },
     "metadata": {
      "needs_background": "light"
     },
     "output_type": "display_data"
    }
   ],
   "source": [
    "m = stats.groupby(['subject', 'trial_type'])[['correct', 'prob']].mean()\n",
    "\n",
    "g = sns.relplot(\n",
    "    data=m.reset_index(), x='prob', y='correct', hue='trial_type', clip_on=False, palette=colors['light']\n",
    ")\n",
    "g.set(xlim=(0, 1), ylim=(0, 1));"
   ]
  },
  {
   "cell_type": "code",
   "execution_count": 40,
   "metadata": {},
   "outputs": [
    {
     "data": {
      "image/png": "[encoded data removed]",
      "text/plain": [
       "<Figure size 288x216 with 1 Axes>"
      ]
     },
     "metadata": {
      "needs_background": "light"
     },
     "output_type": "display_data"
    }
   ],
   "source": [
    "ml = pd.melt(\n",
    "    m.reset_index(),\n",
    "    id_vars=['subject', 'trial_type'],\n",
    "    value_vars=['correct', 'prob'],\n",
    "    var_name='source',\n",
    "    value_name='accuracy',\n",
    ")\n",
    "ml['bias'] = (ml['accuracy'] - .5) * 2\n",
    "ml['source'] = ml['source'].map({'correct': 'Data', 'prob': 'Model'})\n",
    "ml['trial_type'] = ml['trial_type'].map(\n",
    "    {\n",
    "        'central': 'Central',\n",
    "        'boundary1': 'Boundary 1-Away',\n",
    "        'boundary2': 'Boundary 2-Away',\n",
    "    }\n",
    ")\n",
    "fig, ax = plt.subplots(figsize=(4, 3))\n",
    "statplot.plot_swarm_bar(\n",
    "    data=ml,\n",
    "    x='source',\n",
    "    y='bias',\n",
    "    hue='trial_type',\n",
    "    dodge=True,\n",
    "    point_kind='strip',\n",
    "    light=colors['light'],\n",
    "    dark=colors['dark'],\n",
    "    bar_kws={'capsize': .1},\n",
    "    ax=ax,\n",
    ");\n",
    "ax.set(ylabel='Temporal inference bias', ylim=(-1, 1.75), yticks=np.arange(-1, 1.5, .5));\n",
    "ax.axline((0, 0), slope=0, color='k', linewidth=.75);\n",
    "ax.spines['left'].set_bounds(-1, 1)\n",
    "ax.legend(loc='upper left', fontsize='small')\n",
    "ax.yaxis.set_label_coords(-.1, 0.371)\n",
    "fig.savefig(os.path.join(fig_dir, 'temporal_bias_model-sr-comm-qw_a10_t10.pdf'))"
   ]
  }
 ],
 "metadata": {
  "kernelspec": {
   "display_name": "tesser",
   "language": "python",
   "name": "tesser"
  },
  "language_info": {
   "codemirror_mode": {
    "name": "ipython",
    "version": 3
   },
   "file_extension": ".py",
   "mimetype": "text/x-python",
   "name": "python",
   "nbconvert_exporter": "python",
   "pygments_lexer": "ipython3",
   "version": "3.7.6"
  }
 },
 "nbformat": 4,
 "nbformat_minor": 4
}
