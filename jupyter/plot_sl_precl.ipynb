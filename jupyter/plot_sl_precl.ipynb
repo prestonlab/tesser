{
 "cells": [
  {
   "cell_type": "markdown",
   "metadata": {},
   "source": [
    "# Analyze the precuneus searchlight cluster"
   ]
  },
  {
   "cell_type": "code",
   "execution_count": 1,
   "metadata": {},
   "outputs": [
    {
     "name": "stderr",
     "output_type": "stream",
     "text": [
      "/Users/morton/anaconda3/envs/tesser/lib/python3.7/site-packages/nilearn/glm/__init__.py:56: FutureWarning: The nilearn.glm module is experimental. It may change in any future release of Nilearn.\n",
      "  'It may change in any future release of Nilearn.', FutureWarning)\n"
     ]
    }
   ],
   "source": [
    "import os\n",
    "import numpy as np\n",
    "import matplotlib.pyplot as plt\n",
    "import seaborn as sns\n",
    "import pingouin as pg\n",
    "\n",
    "from tesser import rsa\n",
    "from tesser import tasks\n",
    "\n",
    "bids_dir = os.environ['TESSER_BIDS']\n",
    "res_dir = os.environ['TESSER_RESULTS']\n",
    "fig_dir = os.path.join(os.environ['TESSER_FIGURES'], 'plots')\n",
    "os.makedirs(fig_dir, exist_ok=True)\n",
    "beta_dir = os.path.join(res_dir, 'beta', 'smooth4mm')"
   ]
  },
  {
   "cell_type": "markdown",
   "metadata": {},
   "source": [
    "## Load cluster pattern stats"
   ]
  },
  {
   "cell_type": "code",
   "execution_count": 2,
   "metadata": {},
   "outputs": [],
   "source": [
    "roi = 'gray'\n",
    "contrast = 'community_bias'\n",
    "stat = 'bias'\n",
    "cluster = 'precl'\n",
    "dilate = 2\n",
    "\n",
    "subjects = tasks.get_subj_list()\n",
    "patterns = []\n",
    "for subject in subjects:\n",
    "    mat, events = rsa.load_cluster_patterns(\n",
    "        beta_dir, subject, roi, contrast, stat, cluster, dilate\n",
    "    )\n",
    "    patterns.append(mat)\n",
    "sim = rsa.beta_sim_stats(events, patterns)\n",
    "diff = sim['within'] - sim['across']"
   ]
  },
  {
   "cell_type": "markdown",
   "metadata": {},
   "source": [
    "## Load induction task performance"
   ]
  },
  {
   "cell_type": "code",
   "execution_count": 3,
   "metadata": {},
   "outputs": [],
   "source": [
    "induct_raw = tasks.load_induct(bids_dir)\n",
    "induct = tasks.score_induct(induct_raw)\n",
    "bias_trial = (\n",
    "    induct.groupby(['subject', 'trial_type'])['correct']\n",
    "    .mean()\n",
    "    .unstack('trial_type')\n",
    ")\n",
    "c = bias_trial['central'].to_numpy()\n",
    "b1 = bias_trial['boundary1'].to_numpy()\n",
    "b2 = bias_trial['boundary2'].to_numpy()"
   ]
  },
  {
   "cell_type": "markdown",
   "metadata": {},
   "source": [
    "## Test relationships between pattern similarity and inference"
   ]
  },
  {
   "cell_type": "code",
   "execution_count": 4,
   "metadata": {},
   "outputs": [
    {
     "data": {
      "text/html": [
       "<div>\n",
       "<style scoped>\n",
       "    .dataframe tbody tr th:only-of-type {\n",
       "        vertical-align: middle;\n",
       "    }\n",
       "\n",
       "    .dataframe tbody tr th {\n",
       "        vertical-align: top;\n",
       "    }\n",
       "\n",
       "    .dataframe thead th {\n",
       "        text-align: right;\n",
       "    }\n",
       "</style>\n",
       "<table border=\"1\" class=\"dataframe\">\n",
       "  <thead>\n",
       "    <tr style=\"text-align: right;\">\n",
       "      <th></th>\n",
       "      <th>names</th>\n",
       "      <th>coef</th>\n",
       "      <th>se</th>\n",
       "      <th>T</th>\n",
       "      <th>pval</th>\n",
       "      <th>r2</th>\n",
       "      <th>adj_r2</th>\n",
       "      <th>CI[2.5%]</th>\n",
       "      <th>CI[97.5%]</th>\n",
       "    </tr>\n",
       "  </thead>\n",
       "  <tbody>\n",
       "    <tr>\n",
       "      <th>0</th>\n",
       "      <td>Intercept</td>\n",
       "      <td>-0.015492</td>\n",
       "      <td>0.006657</td>\n",
       "      <td>-2.327281</td>\n",
       "      <td>0.026232</td>\n",
       "      <td>0.31705</td>\n",
       "      <td>0.254964</td>\n",
       "      <td>-0.029035</td>\n",
       "      <td>-0.001949</td>\n",
       "    </tr>\n",
       "    <tr>\n",
       "      <th>1</th>\n",
       "      <td>x2</td>\n",
       "      <td>0.021217</td>\n",
       "      <td>0.011353</td>\n",
       "      <td>1.868922</td>\n",
       "      <td>0.070531</td>\n",
       "      <td>0.31705</td>\n",
       "      <td>0.254964</td>\n",
       "      <td>-0.001880</td>\n",
       "      <td>0.044315</td>\n",
       "    </tr>\n",
       "    <tr>\n",
       "      <th>2</th>\n",
       "      <td>x3</td>\n",
       "      <td>0.016496</td>\n",
       "      <td>0.007846</td>\n",
       "      <td>2.102567</td>\n",
       "      <td>0.043214</td>\n",
       "      <td>0.31705</td>\n",
       "      <td>0.254964</td>\n",
       "      <td>0.000534</td>\n",
       "      <td>0.032458</td>\n",
       "    </tr>\n",
       "    <tr>\n",
       "      <th>3</th>\n",
       "      <td>x4</td>\n",
       "      <td>-0.008583</td>\n",
       "      <td>0.006563</td>\n",
       "      <td>-1.307834</td>\n",
       "      <td>0.199967</td>\n",
       "      <td>0.31705</td>\n",
       "      <td>0.254964</td>\n",
       "      <td>-0.021935</td>\n",
       "      <td>0.004769</td>\n",
       "    </tr>\n",
       "  </tbody>\n",
       "</table>\n",
       "</div>"
      ],
      "text/plain": [
       "       names      coef        se         T      pval       r2    adj_r2  \\\n",
       "0  Intercept -0.015492  0.006657 -2.327281  0.026232  0.31705  0.254964   \n",
       "1         x2  0.021217  0.011353  1.868922  0.070531  0.31705  0.254964   \n",
       "2         x3  0.016496  0.007846  2.102567  0.043214  0.31705  0.254964   \n",
       "3         x4 -0.008583  0.006563 -1.307834  0.199967  0.31705  0.254964   \n",
       "\n",
       "   CI[2.5%]  CI[97.5%]  \n",
       "0 -0.029035  -0.001949  \n",
       "1 -0.001880   0.044315  \n",
       "2  0.000534   0.032458  \n",
       "3 -0.021935   0.004769  "
      ]
     },
     "execution_count": 4,
     "metadata": {},
     "output_type": "execute_result"
    }
   ],
   "source": [
    "x = np.vstack([np.ones(c.shape), c, b1, b2]).T\n",
    "y = diff\n",
    "pg.linear_regression(x, y)"
   ]
  },
  {
   "cell_type": "code",
   "execution_count": 5,
   "metadata": {},
   "outputs": [
    {
     "data": {
      "image/png": "[encoded data removed]",
      "text/plain": [
       "<Figure size 216x216 with 1 Axes>"
      ]
     },
     "metadata": {
      "needs_background": "light"
     },
     "output_type": "display_data"
    }
   ],
   "source": [
    "fig, ax = plt.subplots(figsize=(3, 3))\n",
    "x = diff\n",
    "y = (b1 - .5) * 2\n",
    "sns.regplot(x=x, y=y, ax=ax, color=(.2, .2, .2))\n",
    "ax.set(\n",
    "    xlim=(-0.025, 0.03),\n",
    "    ylim=(-1.1, 1.1),\n",
    "    xlabel='Precuneus similarity difference',\n",
    "    ylabel='Boundary 1-away inference',\n",
    ");\n",
    "fig.savefig(os.path.join(fig_dir, 'precl_b1.pdf'))"
   ]
  },
  {
   "cell_type": "code",
   "execution_count": 6,
   "metadata": {},
   "outputs": [
    {
     "name": "stdout",
     "output_type": "stream",
     "text": [
      "Python implementation: CPython\n",
      "Python version       : 3.7.6\n",
      "IPython version      : 7.11.1\n",
      "\n",
      "Compiler    : Clang 4.0.1 (tags/RELEASE_401/final)\n",
      "OS          : Darwin\n",
      "Release     : 20.6.0\n",
      "Machine     : x86_64\n",
      "Processor   : i386\n",
      "CPU cores   : 12\n",
      "Architecture: 64bit\n",
      "\n",
      "tesser    : 0.1.0\n",
      "seaborn   : 0.11.1\n",
      "matplotlib: 3.4.3\n",
      "pingouin  : 0.4.0\n",
      "numpy     : 1.18.1\n",
      "\n"
     ]
    }
   ],
   "source": [
    "%load_ext watermark\n",
    "%watermark -i -m -v -iv"
   ]
  }
 ],
 "metadata": {
  "kernelspec": {
   "display_name": "tesser",
   "language": "python",
   "name": "tesser"
  },
  "language_info": {
   "codemirror_mode": {
    "name": "ipython",
    "version": 3
   },
   "file_extension": ".py",
   "mimetype": "text/x-python",
   "name": "python",
   "nbconvert_exporter": "python",
   "pygments_lexer": "ipython3",
   "version": "3.7.6"
  }
 },
 "nbformat": 4,
 "nbformat_minor": 4
}
