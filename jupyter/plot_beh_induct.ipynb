{
 "cells": [
  {
   "cell_type": "markdown",
   "metadata": {},
   "source": [
    "# Analyze inductive inference task data"
   ]
  },
  {
   "cell_type": "code",
   "execution_count": 1,
   "metadata": {},
   "outputs": [],
   "source": [
    "import os\n",
    "import numpy as np\n",
    "import pandas as pd\n",
    "import matplotlib.pyplot as plt\n",
    "import seaborn as sns\n",
    "import pingouin as pg\n",
    "\n",
    "from mindstorm import statplot\n",
    "from tesser import tasks\n",
    "from tesser import figures\n",
    "\n",
    "bids_dir = os.environ['TESSER_BIDS']\n",
    "fig_dir = os.path.join(os.environ['TESSER_FIGURES'], 'plots')\n",
    "os.makedirs(fig_dir, exist_ok=True)"
   ]
  },
  {
   "cell_type": "markdown",
   "metadata": {},
   "source": [
    "## Temporal bias for each trial type"
   ]
  },
  {
   "cell_type": "code",
   "execution_count": 2,
   "metadata": {},
   "outputs": [
    {
     "data": {
      "text/html": [
       "<div>\n",
       "<style scoped>\n",
       "    .dataframe tbody tr th:only-of-type {\n",
       "        vertical-align: middle;\n",
       "    }\n",
       "\n",
       "    .dataframe tbody tr th {\n",
       "        vertical-align: top;\n",
       "    }\n",
       "\n",
       "    .dataframe thead th {\n",
       "        text-align: right;\n",
       "    }\n",
       "</style>\n",
       "<table border=\"1\" class=\"dataframe\">\n",
       "  <thead>\n",
       "    <tr style=\"text-align: right;\">\n",
       "      <th></th>\n",
       "      <th>onset</th>\n",
       "      <th>duration</th>\n",
       "      <th>trial_type</th>\n",
       "      <th>environment</th>\n",
       "      <th>community</th>\n",
       "      <th>cue</th>\n",
       "      <th>opt1</th>\n",
       "      <th>opt2</th>\n",
       "      <th>within_opt</th>\n",
       "      <th>response</th>\n",
       "      <th>response_time</th>\n",
       "      <th>run</th>\n",
       "      <th>subject</th>\n",
       "      <th>correct</th>\n",
       "    </tr>\n",
       "  </thead>\n",
       "  <tbody>\n",
       "    <tr>\n",
       "      <th>0</th>\n",
       "      <td>0.000</td>\n",
       "      <td>8.000</td>\n",
       "      <td>central</td>\n",
       "      <td>ocean</td>\n",
       "      <td>1</td>\n",
       "      <td>2</td>\n",
       "      <td>16</td>\n",
       "      <td>20</td>\n",
       "      <td>2</td>\n",
       "      <td>NaN</td>\n",
       "      <td>NaN</td>\n",
       "      <td>1</td>\n",
       "      <td>100</td>\n",
       "      <td>NaN</td>\n",
       "    </tr>\n",
       "    <tr>\n",
       "      <th>1</th>\n",
       "      <td>8.500</td>\n",
       "      <td>2.974</td>\n",
       "      <td>boundary2</td>\n",
       "      <td>desert</td>\n",
       "      <td>2</td>\n",
       "      <td>4</td>\n",
       "      <td>10</td>\n",
       "      <td>19</td>\n",
       "      <td>1</td>\n",
       "      <td>2.0</td>\n",
       "      <td>2.974</td>\n",
       "      <td>1</td>\n",
       "      <td>100</td>\n",
       "      <td>0.0</td>\n",
       "    </tr>\n",
       "    <tr>\n",
       "      <th>2</th>\n",
       "      <td>11.974</td>\n",
       "      <td>3.191</td>\n",
       "      <td>central</td>\n",
       "      <td>desert</td>\n",
       "      <td>2</td>\n",
       "      <td>5</td>\n",
       "      <td>6</td>\n",
       "      <td>2</td>\n",
       "      <td>1</td>\n",
       "      <td>1.0</td>\n",
       "      <td>3.191</td>\n",
       "      <td>1</td>\n",
       "      <td>100</td>\n",
       "      <td>1.0</td>\n",
       "    </tr>\n",
       "    <tr>\n",
       "      <th>3</th>\n",
       "      <td>15.665</td>\n",
       "      <td>3.374</td>\n",
       "      <td>central</td>\n",
       "      <td>ocean</td>\n",
       "      <td>1</td>\n",
       "      <td>2</td>\n",
       "      <td>9</td>\n",
       "      <td>19</td>\n",
       "      <td>2</td>\n",
       "      <td>2.0</td>\n",
       "      <td>3.374</td>\n",
       "      <td>1</td>\n",
       "      <td>100</td>\n",
       "      <td>1.0</td>\n",
       "    </tr>\n",
       "    <tr>\n",
       "      <th>4</th>\n",
       "      <td>19.539</td>\n",
       "      <td>3.095</td>\n",
       "      <td>central</td>\n",
       "      <td>ocean</td>\n",
       "      <td>1</td>\n",
       "      <td>1</td>\n",
       "      <td>19</td>\n",
       "      <td>13</td>\n",
       "      <td>1</td>\n",
       "      <td>2.0</td>\n",
       "      <td>3.095</td>\n",
       "      <td>1</td>\n",
       "      <td>100</td>\n",
       "      <td>0.0</td>\n",
       "    </tr>\n",
       "  </tbody>\n",
       "</table>\n",
       "</div>"
      ],
      "text/plain": [
       "    onset  duration trial_type environment  community  cue  opt1  opt2  \\\n",
       "0   0.000     8.000    central       ocean          1    2    16    20   \n",
       "1   8.500     2.974  boundary2      desert          2    4    10    19   \n",
       "2  11.974     3.191    central      desert          2    5     6     2   \n",
       "3  15.665     3.374    central       ocean          1    2     9    19   \n",
       "4  19.539     3.095    central       ocean          1    1    19    13   \n",
       "\n",
       "   within_opt  response  response_time  run  subject  correct  \n",
       "0           2       NaN            NaN    1      100      NaN  \n",
       "1           1       2.0          2.974    1      100      0.0  \n",
       "2           1       1.0          3.191    1      100      1.0  \n",
       "3           2       2.0          3.374    1      100      1.0  \n",
       "4           1       2.0          3.095    1      100      0.0  "
      ]
     },
     "execution_count": 2,
     "metadata": {},
     "output_type": "execute_result"
    }
   ],
   "source": [
    "induct = tasks.load_induct(bids_dir)\n",
    "induct = tasks.score_induct(induct)\n",
    "induct.head()"
   ]
  },
  {
   "cell_type": "code",
   "execution_count": 3,
   "metadata": {},
   "outputs": [],
   "source": [
    "induct['trial'] = np.tile(np.arange(42), induct['subject'].nunique())\n",
    "trial = induct.groupby('trial')['correct'].mean().reset_index()"
   ]
  },
  {
   "cell_type": "code",
   "execution_count": 4,
   "metadata": {},
   "outputs": [
    {
     "data": {
      "text/html": [
       "<div>\n",
       "<style scoped>\n",
       "    .dataframe tbody tr th:only-of-type {\n",
       "        vertical-align: middle;\n",
       "    }\n",
       "\n",
       "    .dataframe tbody tr th {\n",
       "        vertical-align: top;\n",
       "    }\n",
       "\n",
       "    .dataframe thead th {\n",
       "        text-align: right;\n",
       "    }\n",
       "</style>\n",
       "<table border=\"1\" class=\"dataframe\">\n",
       "  <thead>\n",
       "    <tr style=\"text-align: right;\">\n",
       "      <th></th>\n",
       "      <th>n</th>\n",
       "      <th>r</th>\n",
       "      <th>CI95%</th>\n",
       "      <th>p-val</th>\n",
       "      <th>BF10</th>\n",
       "      <th>power</th>\n",
       "    </tr>\n",
       "  </thead>\n",
       "  <tbody>\n",
       "    <tr>\n",
       "      <th>pearson</th>\n",
       "      <td>42</td>\n",
       "      <td>0.100902</td>\n",
       "      <td>[-0.21, 0.39]</td>\n",
       "      <td>0.5249</td>\n",
       "      <td>0.234</td>\n",
       "      <td>0.097505</td>\n",
       "    </tr>\n",
       "  </tbody>\n",
       "</table>\n",
       "</div>"
      ],
      "text/plain": [
       "          n         r          CI95%   p-val   BF10     power\n",
       "pearson  42  0.100902  [-0.21, 0.39]  0.5249  0.234  0.097505"
      ]
     },
     "execution_count": 4,
     "metadata": {},
     "output_type": "execute_result"
    },
    {
     "data": {
      "image/png": "[encoded data removed]",
      "text/plain": [
       "<Figure size 360x360 with 1 Axes>"
      ]
     },
     "metadata": {
      "needs_background": "light"
     },
     "output_type": "display_data"
    }
   ],
   "source": [
    "sns.relplot(data=trial, x='trial', y='correct')\n",
    "pg.corr(trial['trial'], trial['correct'])"
   ]
  },
  {
   "cell_type": "code",
   "execution_count": 5,
   "metadata": {},
   "outputs": [],
   "source": [
    "bias = (induct.groupby(['subject', 'trial_type'])[['correct']].mean() - .5) * 2\n",
    "bias = bias.reset_index()"
   ]
  },
  {
   "cell_type": "code",
   "execution_count": 6,
   "metadata": {},
   "outputs": [
    {
     "data": {
      "image/png": "[encoded data removed]",
      "text/plain": [
       "<Figure size 252x216 with 1 Axes>"
      ]
     },
     "metadata": {
      "needs_background": "light"
     },
     "output_type": "display_data"
    }
   ],
   "source": [
    "colors = figures.get_induct_colors()\n",
    "fig, ax = plt.subplots(figsize=(3.5, 3))\n",
    "statplot.plot_swarm_bar(\n",
    "    bias,\n",
    "    x='trial_type',\n",
    "    y='correct',\n",
    "    dark=colors['dark'],\n",
    "    light=colors['light'],\n",
    "    point_kws={'clip_on': False},\n",
    "    ax=ax,\n",
    ")\n",
    "ax.set(\n",
    "    ylim=(-1, 1), ylabel='Temporal inference bias',\n",
    "    xticklabels=['Central', 'Boundary\\n1-Away', 'Boundary\\n2-Away']\n",
    ")\n",
    "x_lim = ax.get_xlim()\n",
    "ax.hlines(0, *x_lim, color='k')\n",
    "ax.set_xlim(*x_lim);\n",
    "x = sorted([p.get_x() + p.get_width() / 2 for p in ax.patches])\n",
    "y = bias.groupby('trial_type')['correct'].max().to_list()\n",
    "offset = 0.05 * np.diff(ax.get_ylim())\n",
    "ax.set(ylim=(-1, 1.6), yticks=np.arange(-1, 1.25, .25))\n",
    "ax.spines['left'].set_bounds(-1, 1)\n",
    "statplot.plot_sig([x[0], x[1]], [y[0], y[1]], offset, ax=ax)\n",
    "statplot.plot_sig([x[1], x[2]], [y[1], y[2]], offset, ax=ax)\n",
    "statplot.plot_sig([x[0], x[2]], [y[0] + offset * 2, y[2] + offset * 2], offset, ax=ax)\n",
    "ax.yaxis.set_label_coords(-.15, 0.4)\n",
    "fig.savefig(os.path.join(fig_dir, 'temporal_bias.pdf'))"
   ]
  },
  {
   "cell_type": "code",
   "execution_count": 7,
   "metadata": {},
   "outputs": [
    {
     "data": {
      "image/png": "[encoded data removed]",
      "text/plain": [
       "<Figure size 252x216 with 1 Axes>"
      ]
     },
     "metadata": {
      "needs_background": "light"
     },
     "output_type": "display_data"
    }
   ],
   "source": [
    "fig, ax = plt.subplots(figsize=(3.5, 3))\n",
    "sns.barplot(\n",
    "    data=bias,\n",
    "    x='trial_type',\n",
    "    y='correct',\n",
    "    palette='gray',\n",
    "    edgecolor='k',\n",
    "    ax=ax,\n",
    ")\n",
    "sns.lineplot(\n",
    "    data=bias,\n",
    "    x='trial_type',\n",
    "    y='correct',\n",
    "    hue='subject',\n",
    "    legend=False,\n",
    "    palette='husl',\n",
    "    ax=ax,\n",
    ")\n",
    "ax.set(\n",
    "    ylim=(-1, 1), \n",
    "    ylabel='Temporal inference bias',\n",
    "    xlabel='',\n",
    "    xticklabels=['Central', 'Boundary\\n1-Away', 'Boundary\\n2-Away']\n",
    ")\n",
    "ax.tick_params(axis='x', labelsize='large')\n",
    "x_lim = ax.get_xlim()\n",
    "ax.hlines(0, *x_lim, color='k')\n",
    "ax.set_xlim(*x_lim);\n",
    "fig.savefig(os.path.join(fig_dir, 'temporal_bias_indiv.pdf'))"
   ]
  },
  {
   "cell_type": "markdown",
   "metadata": {},
   "source": [
    "### Is there significant temporal bias?"
   ]
  },
  {
   "cell_type": "code",
   "execution_count": 8,
   "metadata": {},
   "outputs": [
    {
     "data": {
      "text/html": [
       "<div>\n",
       "<style scoped>\n",
       "    .dataframe tbody tr th:only-of-type {\n",
       "        vertical-align: middle;\n",
       "    }\n",
       "\n",
       "    .dataframe tbody tr th {\n",
       "        vertical-align: top;\n",
       "    }\n",
       "\n",
       "    .dataframe thead th {\n",
       "        text-align: right;\n",
       "    }\n",
       "</style>\n",
       "<table border=\"1\" class=\"dataframe\">\n",
       "  <thead>\n",
       "    <tr style=\"text-align: right;\">\n",
       "      <th></th>\n",
       "      <th></th>\n",
       "      <th>T</th>\n",
       "      <th>dof</th>\n",
       "      <th>alternative</th>\n",
       "      <th>p-val</th>\n",
       "      <th>CI95%</th>\n",
       "      <th>cohen-d</th>\n",
       "      <th>BF10</th>\n",
       "      <th>power</th>\n",
       "      <th>p-cor</th>\n",
       "    </tr>\n",
       "    <tr>\n",
       "      <th>trial_type</th>\n",
       "      <th></th>\n",
       "      <th></th>\n",
       "      <th></th>\n",
       "      <th></th>\n",
       "      <th></th>\n",
       "      <th></th>\n",
       "      <th></th>\n",
       "      <th></th>\n",
       "      <th></th>\n",
       "      <th></th>\n",
       "    </tr>\n",
       "  </thead>\n",
       "  <tbody>\n",
       "    <tr>\n",
       "      <th>central</th>\n",
       "      <th>T-test</th>\n",
       "      <td>3.967068</td>\n",
       "      <td>36</td>\n",
       "      <td>two-sided</td>\n",
       "      <td>0.000332</td>\n",
       "      <td>[0.09, 0.28]</td>\n",
       "      <td>0.652182</td>\n",
       "      <td>83.77</td>\n",
       "      <td>0.971232</td>\n",
       "      <td>0.000498</td>\n",
       "    </tr>\n",
       "    <tr>\n",
       "      <th>boundary1</th>\n",
       "      <th>T-test</th>\n",
       "      <td>-0.182485</td>\n",
       "      <td>36</td>\n",
       "      <td>two-sided</td>\n",
       "      <td>0.856226</td>\n",
       "      <td>[-0.15, 0.13]</td>\n",
       "      <td>0.030000</td>\n",
       "      <td>0.18</td>\n",
       "      <td>0.053624</td>\n",
       "      <td>0.856226</td>\n",
       "    </tr>\n",
       "    <tr>\n",
       "      <th>boundary2</th>\n",
       "      <th>T-test</th>\n",
       "      <td>5.287677</td>\n",
       "      <td>36</td>\n",
       "      <td>two-sided</td>\n",
       "      <td>0.000006</td>\n",
       "      <td>[0.24, 0.53]</td>\n",
       "      <td>0.869289</td>\n",
       "      <td>3159.569</td>\n",
       "      <td>0.999269</td>\n",
       "      <td>0.000019</td>\n",
       "    </tr>\n",
       "  </tbody>\n",
       "</table>\n",
       "</div>"
      ],
      "text/plain": [
       "                          T  dof alternative     p-val          CI95%  \\\n",
       "trial_type                                                              \n",
       "central    T-test  3.967068   36   two-sided  0.000332   [0.09, 0.28]   \n",
       "boundary1  T-test -0.182485   36   two-sided  0.856226  [-0.15, 0.13]   \n",
       "boundary2  T-test  5.287677   36   two-sided  0.000006   [0.24, 0.53]   \n",
       "\n",
       "                    cohen-d      BF10     power     p-cor  \n",
       "trial_type                                                 \n",
       "central    T-test  0.652182     83.77  0.971232  0.000498  \n",
       "boundary1  T-test  0.030000      0.18  0.053624  0.856226  \n",
       "boundary2  T-test  0.869289  3159.569  0.999269  0.000019  "
      ]
     },
     "execution_count": 8,
     "metadata": {},
     "output_type": "execute_result"
    }
   ],
   "source": [
    "mat = pd.pivot(\n",
    "    data=bias, index='subject', columns='trial_type', values='correct'\n",
    ")\n",
    "stats = pd.concat(\n",
    "    [pg.ttest(mat[col], 0) for col in mat.columns], axis=0, keys=mat.columns\n",
    ")\n",
    "stats['p-cor'] = pg.multicomp(stats['p-val'].to_numpy(), method='fdr_bh')[1]\n",
    "stats"
   ]
  },
  {
   "cell_type": "markdown",
   "metadata": {},
   "source": [
    "### Does temporal bias vary by trial type?"
   ]
  },
  {
   "cell_type": "code",
   "execution_count": 9,
   "metadata": {},
   "outputs": [
    {
     "data": {
      "text/html": [
       "<div>\n",
       "<style scoped>\n",
       "    .dataframe tbody tr th:only-of-type {\n",
       "        vertical-align: middle;\n",
       "    }\n",
       "\n",
       "    .dataframe tbody tr th {\n",
       "        vertical-align: top;\n",
       "    }\n",
       "\n",
       "    .dataframe thead th {\n",
       "        text-align: right;\n",
       "    }\n",
       "</style>\n",
       "<table border=\"1\" class=\"dataframe\">\n",
       "  <thead>\n",
       "    <tr style=\"text-align: right;\">\n",
       "      <th></th>\n",
       "      <th>Source</th>\n",
       "      <th>ddof1</th>\n",
       "      <th>ddof2</th>\n",
       "      <th>F</th>\n",
       "      <th>p-unc</th>\n",
       "      <th>np2</th>\n",
       "      <th>eps</th>\n",
       "    </tr>\n",
       "  </thead>\n",
       "  <tbody>\n",
       "    <tr>\n",
       "      <th>0</th>\n",
       "      <td>trial_type</td>\n",
       "      <td>2</td>\n",
       "      <td>72</td>\n",
       "      <td>14.270354</td>\n",
       "      <td>0.000006</td>\n",
       "      <td>0.283872</td>\n",
       "      <td>0.88351</td>\n",
       "    </tr>\n",
       "  </tbody>\n",
       "</table>\n",
       "</div>"
      ],
      "text/plain": [
       "       Source  ddof1  ddof2          F     p-unc       np2      eps\n",
       "0  trial_type      2     72  14.270354  0.000006  0.283872  0.88351"
      ]
     },
     "execution_count": 9,
     "metadata": {},
     "output_type": "execute_result"
    }
   ],
   "source": [
    "pg.rm_anova(data=bias, dv='correct', within='trial_type', subject='subject')"
   ]
  },
  {
   "cell_type": "code",
   "execution_count": 10,
   "metadata": {},
   "outputs": [
    {
     "data": {
      "text/html": [
       "<div>\n",
       "<style scoped>\n",
       "    .dataframe tbody tr th:only-of-type {\n",
       "        vertical-align: middle;\n",
       "    }\n",
       "\n",
       "    .dataframe tbody tr th {\n",
       "        vertical-align: top;\n",
       "    }\n",
       "\n",
       "    .dataframe thead th {\n",
       "        text-align: right;\n",
       "    }\n",
       "</style>\n",
       "<table border=\"1\" class=\"dataframe\">\n",
       "  <thead>\n",
       "    <tr style=\"text-align: right;\">\n",
       "      <th></th>\n",
       "      <th>Contrast</th>\n",
       "      <th>A</th>\n",
       "      <th>B</th>\n",
       "      <th>Paired</th>\n",
       "      <th>Parametric</th>\n",
       "      <th>T</th>\n",
       "      <th>dof</th>\n",
       "      <th>alternative</th>\n",
       "      <th>p-unc</th>\n",
       "      <th>BF10</th>\n",
       "      <th>hedges</th>\n",
       "    </tr>\n",
       "  </thead>\n",
       "  <tbody>\n",
       "    <tr>\n",
       "      <th>0</th>\n",
       "      <td>trial_type</td>\n",
       "      <td>boundary1</td>\n",
       "      <td>boundary2</td>\n",
       "      <td>True</td>\n",
       "      <td>True</td>\n",
       "      <td>-4.735596</td>\n",
       "      <td>36.0</td>\n",
       "      <td>two-sided</td>\n",
       "      <td>0.000034</td>\n",
       "      <td>669.792</td>\n",
       "      <td>-0.909924</td>\n",
       "    </tr>\n",
       "    <tr>\n",
       "      <th>1</th>\n",
       "      <td>trial_type</td>\n",
       "      <td>boundary1</td>\n",
       "      <td>central</td>\n",
       "      <td>True</td>\n",
       "      <td>True</td>\n",
       "      <td>-3.297114</td>\n",
       "      <td>36.0</td>\n",
       "      <td>two-sided</td>\n",
       "      <td>0.002204</td>\n",
       "      <td>15.542</td>\n",
       "      <td>-0.546255</td>\n",
       "    </tr>\n",
       "    <tr>\n",
       "      <th>2</th>\n",
       "      <td>trial_type</td>\n",
       "      <td>boundary2</td>\n",
       "      <td>central</td>\n",
       "      <td>True</td>\n",
       "      <td>True</td>\n",
       "      <td>2.581411</td>\n",
       "      <td>36.0</td>\n",
       "      <td>two-sided</td>\n",
       "      <td>0.014059</td>\n",
       "      <td>3.14</td>\n",
       "      <td>0.528246</td>\n",
       "    </tr>\n",
       "  </tbody>\n",
       "</table>\n",
       "</div>"
      ],
      "text/plain": [
       "     Contrast          A          B  Paired  Parametric         T   dof  \\\n",
       "0  trial_type  boundary1  boundary2    True        True -4.735596  36.0   \n",
       "1  trial_type  boundary1    central    True        True -3.297114  36.0   \n",
       "2  trial_type  boundary2    central    True        True  2.581411  36.0   \n",
       "\n",
       "  alternative     p-unc     BF10    hedges  \n",
       "0   two-sided  0.000034  669.792 -0.909924  \n",
       "1   two-sided  0.002204   15.542 -0.546255  \n",
       "2   two-sided  0.014059     3.14  0.528246  "
      ]
     },
     "execution_count": 10,
     "metadata": {},
     "output_type": "execute_result"
    }
   ],
   "source": [
    "pg.pairwise_ttests(\n",
    "    data=bias, dv='correct', within='trial_type', subject='subject'\n",
    ")"
   ]
  },
  {
   "cell_type": "markdown",
   "metadata": {},
   "source": [
    "## Relationship between trial types"
   ]
  },
  {
   "cell_type": "code",
   "execution_count": 11,
   "metadata": {},
   "outputs": [
    {
     "data": {
      "image/png": "[encoded data removed]",
      "text/plain": [
       "<Figure size 540x540 with 12 Axes>"
      ]
     },
     "metadata": {
      "needs_background": "light"
     },
     "output_type": "display_data"
    }
   ],
   "source": [
    "mat = pd.pivot(data=bias, index='subject', columns='trial_type', values='correct')\n",
    "sns.pairplot(mat);"
   ]
  },
  {
   "cell_type": "code",
   "execution_count": 12,
   "metadata": {},
   "outputs": [
    {
     "data": {
      "text/html": [
       "<div>\n",
       "<style scoped>\n",
       "    .dataframe tbody tr th:only-of-type {\n",
       "        vertical-align: middle;\n",
       "    }\n",
       "\n",
       "    .dataframe tbody tr th {\n",
       "        vertical-align: top;\n",
       "    }\n",
       "\n",
       "    .dataframe thead th {\n",
       "        text-align: right;\n",
       "    }\n",
       "</style>\n",
       "<table border=\"1\" class=\"dataframe\">\n",
       "  <thead>\n",
       "    <tr style=\"text-align: right;\">\n",
       "      <th></th>\n",
       "      <th>X</th>\n",
       "      <th>Y</th>\n",
       "      <th>method</th>\n",
       "      <th>alternative</th>\n",
       "      <th>n</th>\n",
       "      <th>r</th>\n",
       "      <th>CI95%</th>\n",
       "      <th>p-unc</th>\n",
       "      <th>p-corr</th>\n",
       "      <th>p-adjust</th>\n",
       "      <th>BF10</th>\n",
       "      <th>power</th>\n",
       "    </tr>\n",
       "  </thead>\n",
       "  <tbody>\n",
       "    <tr>\n",
       "      <th>0</th>\n",
       "      <td>boundary1</td>\n",
       "      <td>boundary2</td>\n",
       "      <td>pearson</td>\n",
       "      <td>two-sided</td>\n",
       "      <td>37</td>\n",
       "      <td>0.302836</td>\n",
       "      <td>[-0.02, 0.57]</td>\n",
       "      <td>0.068470</td>\n",
       "      <td>0.102704</td>\n",
       "      <td>fdr_bh</td>\n",
       "      <td>1.011</td>\n",
       "      <td>0.453870</td>\n",
       "    </tr>\n",
       "    <tr>\n",
       "      <th>1</th>\n",
       "      <td>boundary1</td>\n",
       "      <td>central</td>\n",
       "      <td>pearson</td>\n",
       "      <td>two-sided</td>\n",
       "      <td>37</td>\n",
       "      <td>0.518604</td>\n",
       "      <td>[0.23, 0.72]</td>\n",
       "      <td>0.001008</td>\n",
       "      <td>0.003023</td>\n",
       "      <td>fdr_bh</td>\n",
       "      <td>37.131</td>\n",
       "      <td>0.923338</td>\n",
       "    </tr>\n",
       "    <tr>\n",
       "      <th>2</th>\n",
       "      <td>boundary2</td>\n",
       "      <td>central</td>\n",
       "      <td>pearson</td>\n",
       "      <td>two-sided</td>\n",
       "      <td>37</td>\n",
       "      <td>0.229350</td>\n",
       "      <td>[-0.1, 0.52]</td>\n",
       "      <td>0.172102</td>\n",
       "      <td>0.172102</td>\n",
       "      <td>fdr_bh</td>\n",
       "      <td>0.502</td>\n",
       "      <td>0.280207</td>\n",
       "    </tr>\n",
       "  </tbody>\n",
       "</table>\n",
       "</div>"
      ],
      "text/plain": [
       "           X          Y   method alternative   n         r          CI95%  \\\n",
       "0  boundary1  boundary2  pearson   two-sided  37  0.302836  [-0.02, 0.57]   \n",
       "1  boundary1    central  pearson   two-sided  37  0.518604   [0.23, 0.72]   \n",
       "2  boundary2    central  pearson   two-sided  37  0.229350   [-0.1, 0.52]   \n",
       "\n",
       "      p-unc    p-corr p-adjust    BF10     power  \n",
       "0  0.068470  0.102704   fdr_bh   1.011  0.453870  \n",
       "1  0.001008  0.003023   fdr_bh  37.131  0.923338  \n",
       "2  0.172102  0.172102   fdr_bh   0.502  0.280207  "
      ]
     },
     "execution_count": 12,
     "metadata": {},
     "output_type": "execute_result"
    }
   ],
   "source": [
    "pg.pairwise_corr(mat, padjust='fdr_bh')"
   ]
  },
  {
   "cell_type": "markdown",
   "metadata": {},
   "source": [
    "## Response time for each trial type"
   ]
  },
  {
   "cell_type": "code",
   "execution_count": 13,
   "metadata": {},
   "outputs": [
    {
     "data": {
      "text/plain": [
       "7"
      ]
     },
     "execution_count": 13,
     "metadata": {},
     "output_type": "execute_result"
    }
   ],
   "source": [
    "exclude = (\n",
    "    induct.groupby(['correct', 'trial_type', 'subject'])['response_time']\n",
    "    .count()\n",
    "    .unstack(['correct', 'trial_type']) == 0\n",
    ").any(1)\n",
    "exclude_subjects = exclude.index[exclude.to_numpy()].to_numpy()\n",
    "induct_include = induct.loc[~induct['subject'].isin(exclude_subjects)]\n",
    "exclude.sum()"
   ]
  },
  {
   "cell_type": "code",
   "execution_count": 14,
   "metadata": {
    "tags": []
   },
   "outputs": [
    {
     "data": {
      "image/png": "[encoded data removed]",
      "text/plain": [
       "<Figure size 288x216 with 1 Axes>"
      ]
     },
     "metadata": {
      "needs_background": "light"
     },
     "output_type": "display_data"
    }
   ],
   "source": [
    "rt = induct_include.groupby(['trial_type', 'correct', 'subject'])['response_time'].mean()\n",
    "rt = rt.reset_index()\n",
    "dark = [(.6, .6, .6), (.3, .3, .3)]\n",
    "light = [(.8, .8, .8), (.5, .5, .5)]\n",
    "rt['Response'] = rt['correct'].map({0: 'Different community', 1: 'Same community'})\n",
    "fig, ax = plt.subplots(figsize=(4, 3))\n",
    "statplot.plot_swarm_bar(\n",
    "    rt,\n",
    "    x='trial_type',\n",
    "    y='response_time',\n",
    "    hue='Response',\n",
    "    dark=dark,\n",
    "    light=light,\n",
    "    dodge=True,\n",
    "    bar_kws={'capsize': .2},\n",
    "    ax=ax,\n",
    ")\n",
    "ax.set(\n",
    "    ylim=(0, 8),\n",
    "    ylabel='Response time (s)',\n",
    "    xticklabels=['Central', 'Boundary\\n1-Away', 'Boundary\\n2-Away']\n",
    ");\n",
    "fig.savefig(os.path.join(fig_dir, 'temporal_bias_rt.pdf'))"
   ]
  },
  {
   "cell_type": "code",
   "execution_count": 15,
   "metadata": {
    "tags": []
   },
   "outputs": [
    {
     "data": {
      "text/html": [
       "<div>\n",
       "<style scoped>\n",
       "    .dataframe tbody tr th:only-of-type {\n",
       "        vertical-align: middle;\n",
       "    }\n",
       "\n",
       "    .dataframe tbody tr th {\n",
       "        vertical-align: top;\n",
       "    }\n",
       "\n",
       "    .dataframe thead th {\n",
       "        text-align: right;\n",
       "    }\n",
       "</style>\n",
       "<table border=\"1\" class=\"dataframe\">\n",
       "  <thead>\n",
       "    <tr style=\"text-align: right;\">\n",
       "      <th></th>\n",
       "      <th>Source</th>\n",
       "      <th>SS</th>\n",
       "      <th>ddof1</th>\n",
       "      <th>ddof2</th>\n",
       "      <th>MS</th>\n",
       "      <th>F</th>\n",
       "      <th>p-unc</th>\n",
       "      <th>p-GG-corr</th>\n",
       "      <th>np2</th>\n",
       "      <th>eps</th>\n",
       "    </tr>\n",
       "  </thead>\n",
       "  <tbody>\n",
       "    <tr>\n",
       "      <th>0</th>\n",
       "      <td>trial_type</td>\n",
       "      <td>0.912830</td>\n",
       "      <td>2</td>\n",
       "      <td>58</td>\n",
       "      <td>0.456415</td>\n",
       "      <td>1.038655</td>\n",
       "      <td>0.360419</td>\n",
       "      <td>0.346931</td>\n",
       "      <td>0.034577</td>\n",
       "      <td>0.788474</td>\n",
       "    </tr>\n",
       "    <tr>\n",
       "      <th>1</th>\n",
       "      <td>Response</td>\n",
       "      <td>0.424505</td>\n",
       "      <td>1</td>\n",
       "      <td>29</td>\n",
       "      <td>0.424505</td>\n",
       "      <td>1.583853</td>\n",
       "      <td>0.218245</td>\n",
       "      <td>0.218245</td>\n",
       "      <td>0.051787</td>\n",
       "      <td>1.000000</td>\n",
       "    </tr>\n",
       "    <tr>\n",
       "      <th>2</th>\n",
       "      <td>trial_type * Response</td>\n",
       "      <td>2.948296</td>\n",
       "      <td>2</td>\n",
       "      <td>58</td>\n",
       "      <td>1.474148</td>\n",
       "      <td>4.286965</td>\n",
       "      <td>0.018348</td>\n",
       "      <td>0.022853</td>\n",
       "      <td>0.128788</td>\n",
       "      <td>0.884433</td>\n",
       "    </tr>\n",
       "  </tbody>\n",
       "</table>\n",
       "</div>"
      ],
      "text/plain": [
       "                  Source        SS  ddof1  ddof2        MS         F  \\\n",
       "0             trial_type  0.912830      2     58  0.456415  1.038655   \n",
       "1               Response  0.424505      1     29  0.424505  1.583853   \n",
       "2  trial_type * Response  2.948296      2     58  1.474148  4.286965   \n",
       "\n",
       "      p-unc  p-GG-corr       np2       eps  \n",
       "0  0.360419   0.346931  0.034577  0.788474  \n",
       "1  0.218245   0.218245  0.051787  1.000000  \n",
       "2  0.018348   0.022853  0.128788  0.884433  "
      ]
     },
     "execution_count": 15,
     "metadata": {},
     "output_type": "execute_result"
    }
   ],
   "source": [
    "pg.rm_anova(\n",
    "    data=rt,\n",
    "    dv='response_time',\n",
    "    subject='subject',\n",
    "    within=['trial_type', 'Response']\n",
    ")"
   ]
  },
  {
   "cell_type": "code",
   "execution_count": 16,
   "metadata": {},
   "outputs": [
    {
     "data": {
      "image/png": "[encoded data removed]",
      "text/plain": [
       "<Figure size 260.1x183.6 with 1 Axes>"
      ]
     },
     "metadata": {
      "needs_background": "light"
     },
     "output_type": "display_data"
    }
   ],
   "source": [
    "mrt = induct_include.groupby(['correct', 'trial_type', 'subject'])['response_time'].mean()\n",
    "diff = (mrt.loc[0] - mrt.loc[1]).reset_index()\n",
    "\n",
    "fig, ax = plt.subplots(figsize=(4.25 * .85, 3 * .85))\n",
    "statplot.plot_swarm_bar(\n",
    "    diff,\n",
    "    x='trial_type',\n",
    "    y='response_time',\n",
    "    dark=colors['dark'],\n",
    "    light=colors['light'],\n",
    "    ax=ax,\n",
    ");\n",
    "ax.axline((0, 0), slope=0, color='k', linewidth=.75);\n",
    "x = sorted([p.get_x() + p.get_width() / 2 for p in ax.patches])\n",
    "y = diff.groupby('trial_type')['response_time'].max().to_list()\n",
    "offset = 0.05 * np.diff(ax.get_ylim())\n",
    "ax.set(ylim=(-4, 4.5), yticks=np.arange(-4, 4.25, 1))\n",
    "ax.spines['left'].set_bounds(-4, 4)\n",
    "statplot.plot_sig([x[1], x[2]], [y[1], y[2]], offset, ax=ax)\n",
    "ax.yaxis.set_label_coords(-.15, .49)\n",
    "ax.set(\n",
    "    ylabel='Response time difference (s)',\n",
    "    xticklabels=['Central', 'Boundary\\n1-Away', 'Boundary\\n2-Away'],\n",
    ");\n",
    "fig.savefig(os.path.join(fig_dir, 'temporal_bias_rt_diff.pdf'))"
   ]
  },
  {
   "cell_type": "markdown",
   "metadata": {},
   "source": [
    "### Does response time difference vary by trial type?"
   ]
  },
  {
   "cell_type": "code",
   "execution_count": 17,
   "metadata": {},
   "outputs": [
    {
     "data": {
      "text/html": [
       "<div>\n",
       "<style scoped>\n",
       "    .dataframe tbody tr th:only-of-type {\n",
       "        vertical-align: middle;\n",
       "    }\n",
       "\n",
       "    .dataframe tbody tr th {\n",
       "        vertical-align: top;\n",
       "    }\n",
       "\n",
       "    .dataframe thead th {\n",
       "        text-align: right;\n",
       "    }\n",
       "</style>\n",
       "<table border=\"1\" class=\"dataframe\">\n",
       "  <thead>\n",
       "    <tr style=\"text-align: right;\">\n",
       "      <th></th>\n",
       "      <th>Contrast</th>\n",
       "      <th>A</th>\n",
       "      <th>B</th>\n",
       "      <th>Paired</th>\n",
       "      <th>Parametric</th>\n",
       "      <th>T</th>\n",
       "      <th>dof</th>\n",
       "      <th>alternative</th>\n",
       "      <th>p-unc</th>\n",
       "      <th>BF10</th>\n",
       "      <th>cohen</th>\n",
       "    </tr>\n",
       "  </thead>\n",
       "  <tbody>\n",
       "    <tr>\n",
       "      <th>0</th>\n",
       "      <td>trial_type</td>\n",
       "      <td>central</td>\n",
       "      <td>boundary1</td>\n",
       "      <td>True</td>\n",
       "      <td>True</td>\n",
       "      <td>-1.513264</td>\n",
       "      <td>29.0</td>\n",
       "      <td>two-sided</td>\n",
       "      <td>0.141036</td>\n",
       "      <td>0.541</td>\n",
       "      <td>-0.381813</td>\n",
       "    </tr>\n",
       "    <tr>\n",
       "      <th>1</th>\n",
       "      <td>trial_type</td>\n",
       "      <td>central</td>\n",
       "      <td>boundary2</td>\n",
       "      <td>True</td>\n",
       "      <td>True</td>\n",
       "      <td>1.717295</td>\n",
       "      <td>29.0</td>\n",
       "      <td>two-sided</td>\n",
       "      <td>0.096588</td>\n",
       "      <td>0.717</td>\n",
       "      <td>0.478555</td>\n",
       "    </tr>\n",
       "    <tr>\n",
       "      <th>2</th>\n",
       "      <td>trial_type</td>\n",
       "      <td>boundary1</td>\n",
       "      <td>boundary2</td>\n",
       "      <td>True</td>\n",
       "      <td>True</td>\n",
       "      <td>2.507658</td>\n",
       "      <td>29.0</td>\n",
       "      <td>two-sided</td>\n",
       "      <td>0.018004</td>\n",
       "      <td>2.749</td>\n",
       "      <td>0.683838</td>\n",
       "    </tr>\n",
       "  </tbody>\n",
       "</table>\n",
       "</div>"
      ],
      "text/plain": [
       "     Contrast          A          B  Paired  Parametric         T   dof  \\\n",
       "0  trial_type    central  boundary1    True        True -1.513264  29.0   \n",
       "1  trial_type    central  boundary2    True        True  1.717295  29.0   \n",
       "2  trial_type  boundary1  boundary2    True        True  2.507658  29.0   \n",
       "\n",
       "  alternative     p-unc   BF10     cohen  \n",
       "0   two-sided  0.141036  0.541 -0.381813  \n",
       "1   two-sided  0.096588  0.717  0.478555  \n",
       "2   two-sided  0.018004  2.749  0.683838  "
      ]
     },
     "execution_count": 17,
     "metadata": {},
     "output_type": "execute_result"
    }
   ],
   "source": [
    "pg.pairwise_ttests(\n",
    "    data=diff,\n",
    "    dv='response_time',\n",
    "    subject='subject',\n",
    "    within='trial_type',\n",
    "    effsize='cohen',\n",
    ")"
   ]
  },
  {
   "cell_type": "code",
   "execution_count": 18,
   "metadata": {},
   "outputs": [
    {
     "data": {
      "text/html": [
       "<div>\n",
       "<style scoped>\n",
       "    .dataframe tbody tr th:only-of-type {\n",
       "        vertical-align: middle;\n",
       "    }\n",
       "\n",
       "    .dataframe tbody tr th {\n",
       "        vertical-align: top;\n",
       "    }\n",
       "\n",
       "    .dataframe thead th {\n",
       "        text-align: right;\n",
       "    }\n",
       "</style>\n",
       "<table border=\"1\" class=\"dataframe\">\n",
       "  <thead>\n",
       "    <tr style=\"text-align: right;\">\n",
       "      <th></th>\n",
       "      <th></th>\n",
       "      <th>T</th>\n",
       "      <th>dof</th>\n",
       "      <th>alternative</th>\n",
       "      <th>p-val</th>\n",
       "      <th>CI95%</th>\n",
       "      <th>cohen-d</th>\n",
       "      <th>BF10</th>\n",
       "      <th>power</th>\n",
       "      <th>p-cor</th>\n",
       "    </tr>\n",
       "    <tr>\n",
       "      <th>trial_type</th>\n",
       "      <th></th>\n",
       "      <th></th>\n",
       "      <th></th>\n",
       "      <th></th>\n",
       "      <th></th>\n",
       "      <th></th>\n",
       "      <th></th>\n",
       "      <th></th>\n",
       "      <th></th>\n",
       "      <th></th>\n",
       "    </tr>\n",
       "  </thead>\n",
       "  <tbody>\n",
       "    <tr>\n",
       "      <th>central</th>\n",
       "      <th>T-test</th>\n",
       "      <td>1.269802</td>\n",
       "      <td>29</td>\n",
       "      <td>two-sided</td>\n",
       "      <td>0.214250</td>\n",
       "      <td>[-0.07, 0.29]</td>\n",
       "      <td>0.231833</td>\n",
       "      <td>0.403</td>\n",
       "      <td>0.232804</td>\n",
       "      <td>0.21425</td>\n",
       "    </tr>\n",
       "    <tr>\n",
       "      <th>boundary1</th>\n",
       "      <th>T-test</th>\n",
       "      <td>2.289917</td>\n",
       "      <td>29</td>\n",
       "      <td>two-sided</td>\n",
       "      <td>0.029490</td>\n",
       "      <td>[0.04, 0.76]</td>\n",
       "      <td>0.418080</td>\n",
       "      <td>1.831</td>\n",
       "      <td>0.600151</td>\n",
       "      <td>0.08847</td>\n",
       "    </tr>\n",
       "    <tr>\n",
       "      <th>boundary2</th>\n",
       "      <th>T-test</th>\n",
       "      <td>-1.414035</td>\n",
       "      <td>29</td>\n",
       "      <td>two-sided</td>\n",
       "      <td>0.167998</td>\n",
       "      <td>[-0.55, 0.1]</td>\n",
       "      <td>0.258166</td>\n",
       "      <td>0.477</td>\n",
       "      <td>0.277171</td>\n",
       "      <td>0.21425</td>\n",
       "    </tr>\n",
       "  </tbody>\n",
       "</table>\n",
       "</div>"
      ],
      "text/plain": [
       "                          T  dof alternative     p-val          CI95%  \\\n",
       "trial_type                                                              \n",
       "central    T-test  1.269802   29   two-sided  0.214250  [-0.07, 0.29]   \n",
       "boundary1  T-test  2.289917   29   two-sided  0.029490   [0.04, 0.76]   \n",
       "boundary2  T-test -1.414035   29   two-sided  0.167998   [-0.55, 0.1]   \n",
       "\n",
       "                    cohen-d   BF10     power    p-cor  \n",
       "trial_type                                             \n",
       "central    T-test  0.231833  0.403  0.232804  0.21425  \n",
       "boundary1  T-test  0.418080  1.831  0.600151  0.08847  \n",
       "boundary2  T-test  0.258166  0.477  0.277171  0.21425  "
      ]
     },
     "execution_count": 18,
     "metadata": {},
     "output_type": "execute_result"
    }
   ],
   "source": [
    "mat = pd.pivot(\n",
    "    data=diff, index='subject', columns='trial_type', values='response_time'\n",
    ")\n",
    "stats = pd.concat(\n",
    "    [pg.ttest(mat[col], 0) for col in mat.columns], axis=0, keys=mat.columns\n",
    ")\n",
    "stats['p-cor'] = pg.multicomp(stats['p-val'].to_numpy(), method='fdr_bh')[1]\n",
    "stats"
   ]
  },
  {
   "cell_type": "code",
   "execution_count": 19,
   "metadata": {},
   "outputs": [
    {
     "name": "stdout",
     "output_type": "stream",
     "text": [
      "Python implementation: CPython\n",
      "Python version       : 3.7.6\n",
      "IPython version      : 7.11.1\n",
      "\n",
      "Compiler    : Clang 4.0.1 (tags/RELEASE_401/final)\n",
      "OS          : Darwin\n",
      "Release     : 20.6.0\n",
      "Machine     : x86_64\n",
      "Processor   : i386\n",
      "CPU cores   : 12\n",
      "Architecture: 64bit\n",
      "\n",
      "seaborn   : 0.11.1\n",
      "matplotlib: 3.4.3\n",
      "numpy     : 1.18.1\n",
      "pingouin  : 0.4.0\n",
      "pandas    : 1.2.5\n",
      "mindstorm : 0.8.1\n",
      "tesser    : 0.1.0\n",
      "\n"
     ]
    }
   ],
   "source": [
    "%load_ext watermark\n",
    "%watermark -i -m -v -iv"
   ]
  }
 ],
 "metadata": {
  "kernelspec": {
   "display_name": "tesser",
   "language": "python",
   "name": "tesser"
  },
  "language_info": {
   "codemirror_mode": {
    "name": "ipython",
    "version": 3
   },
   "file_extension": ".py",
   "mimetype": "text/x-python",
   "name": "python",
   "nbconvert_exporter": "python",
   "pygments_lexer": "ipython3",
   "version": "3.7.6"
  }
 },
 "nbformat": 4,
 "nbformat_minor": 4
}
