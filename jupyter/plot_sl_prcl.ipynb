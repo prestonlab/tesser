{
 "cells": [
  {
   "cell_type": "markdown",
   "metadata": {},
   "source": [
    "# Analyze the perirhinal searchlight cluster"
   ]
  },
  {
   "cell_type": "code",
   "execution_count": 1,
   "metadata": {},
   "outputs": [
    {
     "name": "stderr",
     "output_type": "stream",
     "text": [
      "/Users/morton/anaconda3/envs/tesser/lib/python3.7/site-packages/nilearn/glm/__init__.py:56: FutureWarning: The nilearn.glm module is experimental. It may change in any future release of Nilearn.\n",
      "  'It may change in any future release of Nilearn.', FutureWarning)\n"
     ]
    }
   ],
   "source": [
    "import os\n",
    "import numpy as np\n",
    "import pingouin as pg\n",
    "\n",
    "from tesser import rsa\n",
    "from tesser import tasks\n",
    "\n",
    "bids_dir = os.environ['TESSER_BIDS']\n",
    "res_dir = os.environ['TESSER_RESULTS']\n",
    "fig_dir = os.path.join(os.environ['TESSER_FIGURES'], 'plots')\n",
    "os.makedirs(fig_dir, exist_ok=True)\n",
    "beta_dir = os.path.join(res_dir, 'beta', 'smooth4mm')"
   ]
  },
  {
   "cell_type": "markdown",
   "metadata": {},
   "source": [
    "## Load cluster pattern stats"
   ]
  },
  {
   "cell_type": "code",
   "execution_count": 2,
   "metadata": {},
   "outputs": [],
   "source": [
    "roi = 'gray'\n",
    "contrast = 'community_group'\n",
    "stat = 'group'\n",
    "cluster = 'prcl'\n",
    "dilate = 2\n",
    "\n",
    "subjects = tasks.get_subj_list()\n",
    "patterns = []\n",
    "for subject in subjects:\n",
    "    mat, events = rsa.load_cluster_patterns(\n",
    "        beta_dir, subject, roi, contrast, stat, cluster, dilate\n",
    "    )\n",
    "    patterns.append(mat)\n",
    "sim = rsa.beta_sim_stats(events, patterns)\n",
    "diff = sim['within'] - sim['across']"
   ]
  },
  {
   "cell_type": "markdown",
   "metadata": {},
   "source": [
    "## Load induction task performance"
   ]
  },
  {
   "cell_type": "code",
   "execution_count": 3,
   "metadata": {},
   "outputs": [],
   "source": [
    "induct_raw = tasks.load_induct(bids_dir)\n",
    "induct = tasks.score_induct(induct_raw)\n",
    "bias_trial = (\n",
    "    induct.groupby(['subject', 'trial_type'])['correct']\n",
    "    .mean()\n",
    "    .unstack('trial_type')\n",
    ")\n",
    "m = induct.groupby('subject')['correct'].mean()\n",
    "c = bias_trial['central'].to_numpy()\n",
    "b1 = bias_trial['boundary1'].to_numpy()\n",
    "b2 = bias_trial['boundary2'].to_numpy()"
   ]
  },
  {
   "cell_type": "markdown",
   "metadata": {},
   "source": [
    "## Test relationships between pattern similarity and inference"
   ]
  },
  {
   "cell_type": "code",
   "execution_count": 4,
   "metadata": {},
   "outputs": [
    {
     "data": {
      "text/html": [
       "<div>\n",
       "<style scoped>\n",
       "    .dataframe tbody tr th:only-of-type {\n",
       "        vertical-align: middle;\n",
       "    }\n",
       "\n",
       "    .dataframe tbody tr th {\n",
       "        vertical-align: top;\n",
       "    }\n",
       "\n",
       "    .dataframe thead th {\n",
       "        text-align: right;\n",
       "    }\n",
       "</style>\n",
       "<table border=\"1\" class=\"dataframe\">\n",
       "  <thead>\n",
       "    <tr style=\"text-align: right;\">\n",
       "      <th></th>\n",
       "      <th>names</th>\n",
       "      <th>coef</th>\n",
       "      <th>se</th>\n",
       "      <th>T</th>\n",
       "      <th>pval</th>\n",
       "      <th>r2</th>\n",
       "      <th>adj_r2</th>\n",
       "      <th>CI[2.5%]</th>\n",
       "      <th>CI[97.5%]</th>\n",
       "    </tr>\n",
       "  </thead>\n",
       "  <tbody>\n",
       "    <tr>\n",
       "      <th>0</th>\n",
       "      <td>Intercept</td>\n",
       "      <td>-0.007933</td>\n",
       "      <td>0.003440</td>\n",
       "      <td>-2.305856</td>\n",
       "      <td>0.027542</td>\n",
       "      <td>0.170154</td>\n",
       "      <td>0.094714</td>\n",
       "      <td>-0.014933</td>\n",
       "      <td>-0.000934</td>\n",
       "    </tr>\n",
       "    <tr>\n",
       "      <th>1</th>\n",
       "      <td>x2</td>\n",
       "      <td>0.009400</td>\n",
       "      <td>0.005868</td>\n",
       "      <td>1.602031</td>\n",
       "      <td>0.118679</td>\n",
       "      <td>0.170154</td>\n",
       "      <td>0.094714</td>\n",
       "      <td>-0.002538</td>\n",
       "      <td>0.021338</td>\n",
       "    </tr>\n",
       "    <tr>\n",
       "      <th>2</th>\n",
       "      <td>x3</td>\n",
       "      <td>-0.005839</td>\n",
       "      <td>0.004055</td>\n",
       "      <td>-1.440076</td>\n",
       "      <td>0.159266</td>\n",
       "      <td>0.170154</td>\n",
       "      <td>0.094714</td>\n",
       "      <td>-0.014089</td>\n",
       "      <td>0.002410</td>\n",
       "    </tr>\n",
       "    <tr>\n",
       "      <th>3</th>\n",
       "      <td>x4</td>\n",
       "      <td>0.006424</td>\n",
       "      <td>0.003392</td>\n",
       "      <td>1.893874</td>\n",
       "      <td>0.067036</td>\n",
       "      <td>0.170154</td>\n",
       "      <td>0.094714</td>\n",
       "      <td>-0.000477</td>\n",
       "      <td>0.013325</td>\n",
       "    </tr>\n",
       "  </tbody>\n",
       "</table>\n",
       "</div>"
      ],
      "text/plain": [
       "       names      coef        se         T      pval        r2    adj_r2  \\\n",
       "0  Intercept -0.007933  0.003440 -2.305856  0.027542  0.170154  0.094714   \n",
       "1         x2  0.009400  0.005868  1.602031  0.118679  0.170154  0.094714   \n",
       "2         x3 -0.005839  0.004055 -1.440076  0.159266  0.170154  0.094714   \n",
       "3         x4  0.006424  0.003392  1.893874  0.067036  0.170154  0.094714   \n",
       "\n",
       "   CI[2.5%]  CI[97.5%]  \n",
       "0 -0.014933  -0.000934  \n",
       "1 -0.002538   0.021338  \n",
       "2 -0.014089   0.002410  \n",
       "3 -0.000477   0.013325  "
      ]
     },
     "execution_count": 4,
     "metadata": {},
     "output_type": "execute_result"
    }
   ],
   "source": [
    "x = np.vstack([np.ones(c.shape), c, b1, b2]).T\n",
    "y = diff\n",
    "pg.linear_regression(x, y)"
   ]
  },
  {
   "cell_type": "code",
   "execution_count": 5,
   "metadata": {},
   "outputs": [
    {
     "name": "stdout",
     "output_type": "stream",
     "text": [
      "Python implementation: CPython\n",
      "Python version       : 3.7.6\n",
      "IPython version      : 7.11.1\n",
      "\n",
      "Compiler    : Clang 4.0.1 (tags/RELEASE_401/final)\n",
      "OS          : Darwin\n",
      "Release     : 20.6.0\n",
      "Machine     : x86_64\n",
      "Processor   : i386\n",
      "CPU cores   : 12\n",
      "Architecture: 64bit\n",
      "\n",
      "pingouin: 0.4.0\n",
      "tesser  : 0.1.0\n",
      "numpy   : 1.18.1\n",
      "\n"
     ]
    }
   ],
   "source": [
    "%load_ext watermark\n",
    "%watermark -i -m -v -iv"
   ]
  }
 ],
 "metadata": {
  "kernelspec": {
   "display_name": "tesser",
   "language": "python",
   "name": "tesser"
  },
  "language_info": {
   "codemirror_mode": {
    "name": "ipython",
    "version": 3
   },
   "file_extension": ".py",
   "mimetype": "text/x-python",
   "name": "python",
   "nbconvert_exporter": "python",
   "pygments_lexer": "ipython3",
   "version": "3.7.6"
  }
 },
 "nbformat": 4,
 "nbformat_minor": 4
}
