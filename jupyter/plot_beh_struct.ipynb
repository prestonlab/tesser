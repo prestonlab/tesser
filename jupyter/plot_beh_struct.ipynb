{
 "cells": [
  {
   "cell_type": "markdown",
   "metadata": {},
   "source": [
    "# Analyze orientation detection task during structure learning"
   ]
  },
  {
   "cell_type": "code",
   "execution_count": 1,
   "metadata": {},
   "outputs": [],
   "source": [
    "import os\n",
    "import matplotlib.pyplot as plt\n",
    "import pandas as pd\n",
    "import pingouin as pg\n",
    "\n",
    "from mindstorm import statplot\n",
    "from tesser import tasks\n",
    "\n",
    "bids_dir = os.environ['TESSER_BIDS']\n",
    "fig_dir = os.path.join(os.environ['TESSER_FIGURES'], 'plots')\n",
    "os.makedirs(fig_dir, exist_ok=True)"
   ]
  },
  {
   "cell_type": "code",
   "execution_count": 2,
   "metadata": {},
   "outputs": [
    {
     "data": {
      "text/html": [
       "<div>\n",
       "<style scoped>\n",
       "    .dataframe tbody tr th:only-of-type {\n",
       "        vertical-align: middle;\n",
       "    }\n",
       "\n",
       "    .dataframe tbody tr th {\n",
       "        vertical-align: top;\n",
       "    }\n",
       "\n",
       "    .dataframe thead th {\n",
       "        text-align: right;\n",
       "    }\n",
       "</style>\n",
       "<table border=\"1\" class=\"dataframe\">\n",
       "  <thead>\n",
       "    <tr style=\"text-align: right;\">\n",
       "      <th></th>\n",
       "      <th>onset</th>\n",
       "      <th>duration</th>\n",
       "      <th>trial_type</th>\n",
       "      <th>block</th>\n",
       "      <th>community</th>\n",
       "      <th>object</th>\n",
       "      <th>object_type</th>\n",
       "      <th>orientation</th>\n",
       "      <th>response</th>\n",
       "      <th>response_time</th>\n",
       "      <th>run</th>\n",
       "      <th>subject</th>\n",
       "      <th>part</th>\n",
       "    </tr>\n",
       "  </thead>\n",
       "  <tbody>\n",
       "    <tr>\n",
       "      <th>0</th>\n",
       "      <td>0.0</td>\n",
       "      <td>1.5</td>\n",
       "      <td>structured</td>\n",
       "      <td>1</td>\n",
       "      <td>2</td>\n",
       "      <td>10</td>\n",
       "      <td>boundary</td>\n",
       "      <td>canonical</td>\n",
       "      <td>canonical</td>\n",
       "      <td>1.427</td>\n",
       "      <td>1</td>\n",
       "      <td>100</td>\n",
       "      <td>1</td>\n",
       "    </tr>\n",
       "    <tr>\n",
       "      <th>1</th>\n",
       "      <td>1.5</td>\n",
       "      <td>1.5</td>\n",
       "      <td>structured</td>\n",
       "      <td>1</td>\n",
       "      <td>2</td>\n",
       "      <td>5</td>\n",
       "      <td>central</td>\n",
       "      <td>canonical</td>\n",
       "      <td>canonical</td>\n",
       "      <td>0.759</td>\n",
       "      <td>1</td>\n",
       "      <td>100</td>\n",
       "      <td>1</td>\n",
       "    </tr>\n",
       "    <tr>\n",
       "      <th>2</th>\n",
       "      <td>3.0</td>\n",
       "      <td>1.5</td>\n",
       "      <td>structured</td>\n",
       "      <td>1</td>\n",
       "      <td>2</td>\n",
       "      <td>4</td>\n",
       "      <td>boundary</td>\n",
       "      <td>canonical</td>\n",
       "      <td>canonical</td>\n",
       "      <td>0.866</td>\n",
       "      <td>1</td>\n",
       "      <td>100</td>\n",
       "      <td>1</td>\n",
       "    </tr>\n",
       "    <tr>\n",
       "      <th>3</th>\n",
       "      <td>4.5</td>\n",
       "      <td>1.5</td>\n",
       "      <td>structured</td>\n",
       "      <td>1</td>\n",
       "      <td>1</td>\n",
       "      <td>3</td>\n",
       "      <td>boundary</td>\n",
       "      <td>canonical</td>\n",
       "      <td>canonical</td>\n",
       "      <td>0.713</td>\n",
       "      <td>1</td>\n",
       "      <td>100</td>\n",
       "      <td>1</td>\n",
       "    </tr>\n",
       "    <tr>\n",
       "      <th>4</th>\n",
       "      <td>6.0</td>\n",
       "      <td>1.5</td>\n",
       "      <td>structured</td>\n",
       "      <td>1</td>\n",
       "      <td>1</td>\n",
       "      <td>1</td>\n",
       "      <td>central</td>\n",
       "      <td>canonical</td>\n",
       "      <td>canonical</td>\n",
       "      <td>0.654</td>\n",
       "      <td>1</td>\n",
       "      <td>100</td>\n",
       "      <td>1</td>\n",
       "    </tr>\n",
       "  </tbody>\n",
       "</table>\n",
       "</div>"
      ],
      "text/plain": [
       "   onset  duration  trial_type  block  community  object object_type  \\\n",
       "0    0.0       1.5  structured      1          2      10    boundary   \n",
       "1    1.5       1.5  structured      1          2       5     central   \n",
       "2    3.0       1.5  structured      1          2       4    boundary   \n",
       "3    4.5       1.5  structured      1          1       3    boundary   \n",
       "4    6.0       1.5  structured      1          1       1     central   \n",
       "\n",
       "  orientation   response  response_time  run  subject  part  \n",
       "0   canonical  canonical          1.427    1      100     1  \n",
       "1   canonical  canonical          0.759    1      100     1  \n",
       "2   canonical  canonical          0.866    1      100     1  \n",
       "3   canonical  canonical          0.713    1      100     1  \n",
       "4   canonical  canonical          0.654    1      100     1  "
      ]
     },
     "execution_count": 2,
     "metadata": {},
     "output_type": "execute_result"
    }
   ],
   "source": [
    "raw = tasks.load_struct(bids_dir)\n",
    "data = tasks.exclude_struct_switched(raw)\n",
    "data.head(5)"
   ]
  },
  {
   "cell_type": "code",
   "execution_count": 3,
   "metadata": {},
   "outputs": [
    {
     "data": {
      "text/plain": [
       "mean     75.000000\n",
       "std      18.261771\n",
       "min      28.000000\n",
       "max     135.000000\n",
       "Name: onset, dtype: float64"
      ]
     },
     "execution_count": 3,
     "metadata": {},
     "output_type": "execute_result"
    }
   ],
   "source": [
    "(data.query('part == 1')\n",
    "    .groupby(['subject', 'object'])['onset']\n",
    "    .count()\n",
    "    .agg(['mean', 'std', 'min', 'max'])\n",
    ")"
   ]
  },
  {
   "cell_type": "code",
   "execution_count": 4,
   "metadata": {},
   "outputs": [
    {
     "data": {
      "text/plain": [
       "mean    525.000000\n",
       "std     118.265649\n",
       "min     238.000000\n",
       "max     831.000000\n",
       "Name: onset, dtype: float64"
      ]
     },
     "execution_count": 4,
     "metadata": {},
     "output_type": "execute_result"
    }
   ],
   "source": [
    "(data.query('part == 1')\n",
    "    .groupby(['subject', 'community'])['onset']\n",
    "    .count()\n",
    "    .agg(['mean', 'std', 'min', 'max'])\n",
    ")"
   ]
  },
  {
   "cell_type": "markdown",
   "metadata": {
    "tags": []
   },
   "source": [
    "## Part 1 presentation counts"
   ]
  },
  {
   "cell_type": "code",
   "execution_count": 5,
   "metadata": {},
   "outputs": [
    {
     "data": {
      "text/plain": [
       "75.0"
      ]
     },
     "execution_count": 5,
     "metadata": {},
     "output_type": "execute_result"
    }
   ],
   "source": [
    "(data.query('part == 1')\n",
    "    .groupby(['subject', 'object'])['onset']\n",
    "    .count()\n",
    "    .mean()\n",
    ")"
   ]
  },
  {
   "cell_type": "code",
   "execution_count": 6,
   "metadata": {},
   "outputs": [
    {
     "data": {
      "text/plain": [
       "mean    17.386771\n",
       "sem      1.147660\n",
       "Name: onset, dtype: float64"
      ]
     },
     "execution_count": 6,
     "metadata": {},
     "output_type": "execute_result"
    }
   ],
   "source": [
    "(data.query('part == 1')\n",
    "    .groupby(['subject', 'object'])['onset']\n",
    "    .count()\n",
    "    .groupby(['subject'])\n",
    "    .std()\n",
    "    .agg(['mean', 'sem'])\n",
    ")"
   ]
  },
  {
   "cell_type": "code",
   "execution_count": 7,
   "metadata": {},
   "outputs": [
    {
     "data": {
      "text/plain": [
       "525.0"
      ]
     },
     "execution_count": 7,
     "metadata": {},
     "output_type": "execute_result"
    }
   ],
   "source": [
    "(data.query('part == 1')\n",
    "    .groupby(['subject', 'community'])['onset']\n",
    "    .count()\n",
    "    .mean()\n",
    ")"
   ]
  },
  {
   "cell_type": "code",
   "execution_count": 8,
   "metadata": {},
   "outputs": [
    {
     "data": {
      "text/plain": [
       "mean    129.937716\n",
       "sem      10.418100\n",
       "Name: onset, dtype: float64"
      ]
     },
     "execution_count": 8,
     "metadata": {},
     "output_type": "execute_result"
    }
   ],
   "source": [
    "(data.query('part == 1')\n",
    "    .groupby(['subject', 'community'])['onset']\n",
    "    .count()\n",
    "    .groupby(['subject'])\n",
    "    .std()\n",
    "    .agg(['mean', 'sem'])\n",
    ")"
   ]
  },
  {
   "cell_type": "markdown",
   "metadata": {
    "tags": []
   },
   "source": [
    "## Part 2 presentation counts"
   ]
  },
  {
   "cell_type": "code",
   "execution_count": 9,
   "metadata": {},
   "outputs": [
    {
     "data": {
      "text/plain": [
       "42.0"
      ]
     },
     "execution_count": 9,
     "metadata": {},
     "output_type": "execute_result"
    }
   ],
   "source": [
    "(data.query('part == 2')\n",
    "    .groupby(['subject', 'object'])['onset']\n",
    "    .count()\n",
    "    .mean()\n",
    ")"
   ]
  },
  {
   "cell_type": "code",
   "execution_count": 10,
   "metadata": {},
   "outputs": [
    {
     "data": {
      "text/plain": [
       "mean    9.319345\n",
       "sem     0.578807\n",
       "Name: onset, dtype: float64"
      ]
     },
     "execution_count": 10,
     "metadata": {},
     "output_type": "execute_result"
    }
   ],
   "source": [
    "(data.query('part == 2')\n",
    "    .groupby(['subject', 'object'])['onset']\n",
    "    .count()\n",
    "    .groupby(['subject'])\n",
    "    .std()\n",
    "    .agg(['mean', 'sem'])\n",
    ")"
   ]
  },
  {
   "cell_type": "code",
   "execution_count": 11,
   "metadata": {},
   "outputs": [
    {
     "data": {
      "text/plain": [
       "294.0"
      ]
     },
     "execution_count": 11,
     "metadata": {},
     "output_type": "execute_result"
    }
   ],
   "source": [
    "(data.query('part == 2')\n",
    "    .groupby(['subject', 'community'])['onset']\n",
    "    .count()\n",
    "    .mean()\n",
    ")"
   ]
  },
  {
   "cell_type": "code",
   "execution_count": 12,
   "metadata": {},
   "outputs": [
    {
     "data": {
      "text/plain": [
       "mean    65.404393\n",
       "sem      5.541667\n",
       "Name: onset, dtype: float64"
      ]
     },
     "execution_count": 12,
     "metadata": {},
     "output_type": "execute_result"
    }
   ],
   "source": [
    "(data.query('part == 2')\n",
    "    .groupby(['subject', 'community'])['onset']\n",
    "    .count()\n",
    "    .groupby(['subject'])\n",
    "    .std()\n",
    "    .agg(['mean', 'sem'])\n",
    ")"
   ]
  },
  {
   "cell_type": "markdown",
   "metadata": {},
   "source": [
    "## Test whether performance was above chance"
   ]
  },
  {
   "cell_type": "code",
   "execution_count": 13,
   "metadata": {},
   "outputs": [
    {
     "data": {
      "text/html": [
       "<div>\n",
       "<style scoped>\n",
       "    .dataframe tbody tr th:only-of-type {\n",
       "        vertical-align: middle;\n",
       "    }\n",
       "\n",
       "    .dataframe tbody tr th {\n",
       "        vertical-align: top;\n",
       "    }\n",
       "\n",
       "    .dataframe thead th {\n",
       "        text-align: right;\n",
       "    }\n",
       "</style>\n",
       "<table border=\"1\" class=\"dataframe\">\n",
       "  <thead>\n",
       "    <tr style=\"text-align: right;\">\n",
       "      <th></th>\n",
       "      <th>rr</th>\n",
       "      <th>hr</th>\n",
       "      <th>far</th>\n",
       "      <th>zhr</th>\n",
       "      <th>zfar</th>\n",
       "      <th>dprime</th>\n",
       "      <th>p</th>\n",
       "      <th>nr</th>\n",
       "    </tr>\n",
       "  </thead>\n",
       "  <tbody>\n",
       "    <tr>\n",
       "      <th>mean</th>\n",
       "      <td>0.982290</td>\n",
       "      <td>0.921124</td>\n",
       "      <td>0.010849</td>\n",
       "      <td>1.542934</td>\n",
       "      <td>-2.500581</td>\n",
       "      <td>4.043516</td>\n",
       "      <td>1.000000e-04</td>\n",
       "      <td>0.017710</td>\n",
       "    </tr>\n",
       "    <tr>\n",
       "      <th>sem</th>\n",
       "      <td>0.003711</td>\n",
       "      <td>0.004865</td>\n",
       "      <td>0.001550</td>\n",
       "      <td>0.025829</td>\n",
       "      <td>0.019787</td>\n",
       "      <td>0.033456</td>\n",
       "      <td>6.742634e-22</td>\n",
       "      <td>0.003711</td>\n",
       "    </tr>\n",
       "    <tr>\n",
       "      <th>min</th>\n",
       "      <td>0.000000</td>\n",
       "      <td>0.255814</td>\n",
       "      <td>0.000000</td>\n",
       "      <td>-0.656305</td>\n",
       "      <td>-2.909231</td>\n",
       "      <td>1.960466</td>\n",
       "      <td>1.000000e-04</td>\n",
       "      <td>0.000000</td>\n",
       "    </tr>\n",
       "    <tr>\n",
       "      <th>max</th>\n",
       "      <td>1.000000</td>\n",
       "      <td>1.000000</td>\n",
       "      <td>0.350000</td>\n",
       "      <td>2.411822</td>\n",
       "      <td>-0.385320</td>\n",
       "      <td>5.292497</td>\n",
       "      <td>1.000000e-04</td>\n",
       "      <td>1.000000</td>\n",
       "    </tr>\n",
       "  </tbody>\n",
       "</table>\n",
       "</div>"
      ],
      "text/plain": [
       "            rr        hr       far       zhr      zfar    dprime  \\\n",
       "mean  0.982290  0.921124  0.010849  1.542934 -2.500581  4.043516   \n",
       "sem   0.003711  0.004865  0.001550  0.025829  0.019787  0.033456   \n",
       "min   0.000000  0.255814  0.000000 -0.656305 -2.909231  1.960466   \n",
       "max   1.000000  1.000000  0.350000  2.411822 -0.385320  5.292497   \n",
       "\n",
       "                 p        nr  \n",
       "mean  1.000000e-04  0.017710  \n",
       "sem   6.742634e-22  0.003711  \n",
       "min   1.000000e-04  0.000000  \n",
       "max   1.000000e-04  1.000000  "
      ]
     },
     "execution_count": 13,
     "metadata": {},
     "output_type": "execute_result"
    }
   ],
   "source": [
    "overall = data.groupby(['subject', 'part', 'run']).apply(tasks.test_rotation_perf, 10000)\n",
    "overall['nr'] = 1 - overall['rr']\n",
    "overall.agg(['mean', 'sem', 'min', 'max'])"
   ]
  },
  {
   "cell_type": "code",
   "execution_count": 14,
   "metadata": {},
   "outputs": [
    {
     "data": {
      "text/html": [
       "<div>\n",
       "<style scoped>\n",
       "    .dataframe tbody tr th:only-of-type {\n",
       "        vertical-align: middle;\n",
       "    }\n",
       "\n",
       "    .dataframe tbody tr th {\n",
       "        vertical-align: top;\n",
       "    }\n",
       "\n",
       "    .dataframe thead th {\n",
       "        text-align: right;\n",
       "    }\n",
       "</style>\n",
       "<table border=\"1\" class=\"dataframe\">\n",
       "  <thead>\n",
       "    <tr style=\"text-align: right;\">\n",
       "      <th></th>\n",
       "      <th>subject</th>\n",
       "      <th>rr</th>\n",
       "      <th>hr</th>\n",
       "      <th>far</th>\n",
       "      <th>zhr</th>\n",
       "      <th>zfar</th>\n",
       "      <th>dprime</th>\n",
       "      <th>nr</th>\n",
       "    </tr>\n",
       "  </thead>\n",
       "  <tbody>\n",
       "    <tr>\n",
       "      <th>mean</th>\n",
       "      <td>118.621622</td>\n",
       "      <td>0.986338</td>\n",
       "      <td>0.927532</td>\n",
       "      <td>0.012710</td>\n",
       "      <td>1.596464</td>\n",
       "      <td>-2.426409</td>\n",
       "      <td>4.022874</td>\n",
       "      <td>0.013662</td>\n",
       "    </tr>\n",
       "    <tr>\n",
       "      <th>sem</th>\n",
       "      <td>1.880176</td>\n",
       "      <td>0.003011</td>\n",
       "      <td>0.011667</td>\n",
       "      <td>0.003128</td>\n",
       "      <td>0.073957</td>\n",
       "      <td>0.065099</td>\n",
       "      <td>0.109776</td>\n",
       "      <td>0.003011</td>\n",
       "    </tr>\n",
       "    <tr>\n",
       "      <th>min</th>\n",
       "      <td>100.000000</td>\n",
       "      <td>0.923484</td>\n",
       "      <td>0.582353</td>\n",
       "      <td>0.000481</td>\n",
       "      <td>0.207917</td>\n",
       "      <td>-3.301140</td>\n",
       "      <td>2.043930</td>\n",
       "      <td>0.000814</td>\n",
       "    </tr>\n",
       "    <tr>\n",
       "      <th>max</th>\n",
       "      <td>138.000000</td>\n",
       "      <td>0.999186</td>\n",
       "      <td>0.994318</td>\n",
       "      <td>0.109885</td>\n",
       "      <td>2.531313</td>\n",
       "      <td>-1.227141</td>\n",
       "      <td>5.707123</td>\n",
       "      <td>0.076516</td>\n",
       "    </tr>\n",
       "  </tbody>\n",
       "</table>\n",
       "</div>"
      ],
      "text/plain": [
       "         subject        rr        hr       far       zhr      zfar    dprime  \\\n",
       "mean  118.621622  0.986338  0.927532  0.012710  1.596464 -2.426409  4.022874   \n",
       "sem     1.880176  0.003011  0.011667  0.003128  0.073957  0.065099  0.109776   \n",
       "min   100.000000  0.923484  0.582353  0.000481  0.207917 -3.301140  2.043930   \n",
       "max   138.000000  0.999186  0.994318  0.109885  2.531313 -1.227141  5.707123   \n",
       "\n",
       "            nr  \n",
       "mean  0.013662  \n",
       "sem   0.003011  \n",
       "min   0.000814  \n",
       "max   0.076516  "
      ]
     },
     "execution_count": 14,
     "metadata": {},
     "output_type": "execute_result"
    }
   ],
   "source": [
    "subj = data.groupby(['subject']).apply(tasks.rotation_perf).reset_index()\n",
    "subj['nr'] = 1 - subj['rr']\n",
    "subj.agg(['mean', 'sem', 'min', 'max'])"
   ]
  },
  {
   "cell_type": "code",
   "execution_count": 15,
   "metadata": {},
   "outputs": [],
   "source": [
    "res = data.groupby(['subject', 'part', 'run']).apply(tasks.rotation_perf).reset_index()"
   ]
  },
  {
   "cell_type": "markdown",
   "metadata": {},
   "source": [
    "## Part 1"
   ]
  },
  {
   "cell_type": "code",
   "execution_count": 16,
   "metadata": {},
   "outputs": [
    {
     "data": {
      "image/png": "[encoded data removed]",
      "text/plain": [
       "<Figure size 288x216 with 1 Axes>"
      ]
     },
     "metadata": {
      "needs_background": "light"
     },
     "output_type": "display_data"
    }
   ],
   "source": [
    "fig, ax = plt.subplots(figsize=(4, 3))\n",
    "statplot.plot_swarm_bar(\n",
    "    res.reset_index().query('part == 1'),\n",
    "    x='run',\n",
    "    y='dprime',\n",
    "    dodge=True,\n",
    "    legend=False,\n",
    "    point_kind='strip',\n",
    "    ax=ax,\n",
    ")\n",
    "ax.set(ylim=(0, 6), xlabel='Run', ylabel=\"d-prime\")\n",
    "fig.savefig(os.path.join(fig_dir, 'orientation_part1_dprime.pdf'));"
   ]
  },
  {
   "cell_type": "code",
   "execution_count": 17,
   "metadata": {},
   "outputs": [
    {
     "data": {
      "image/png": "[encoded data removed]",
      "text/plain": [
       "<Figure size 288x216 with 1 Axes>"
      ]
     },
     "metadata": {
      "needs_background": "light"
     },
     "output_type": "display_data"
    }
   ],
   "source": [
    "fig, ax = plt.subplots(figsize=(4, 3))\n",
    "statplot.plot_swarm_bar(\n",
    "    res.reset_index().query('part == 1'),\n",
    "    x='run',\n",
    "    y='rr',\n",
    "    dodge=True,\n",
    "    legend=False,\n",
    "    point_kind='strip',\n",
    "    ax=ax,\n",
    ")\n",
    "ax.set(xlabel='Run', ylabel=\"Response rate\");"
   ]
  },
  {
   "cell_type": "code",
   "execution_count": 18,
   "metadata": {},
   "outputs": [
    {
     "data": {
      "text/html": [
       "<div>\n",
       "<style scoped>\n",
       "    .dataframe tbody tr th:only-of-type {\n",
       "        vertical-align: middle;\n",
       "    }\n",
       "\n",
       "    .dataframe tbody tr th {\n",
       "        vertical-align: top;\n",
       "    }\n",
       "\n",
       "    .dataframe thead th {\n",
       "        text-align: right;\n",
       "    }\n",
       "</style>\n",
       "<table border=\"1\" class=\"dataframe\">\n",
       "  <thead>\n",
       "    <tr style=\"text-align: right;\">\n",
       "      <th></th>\n",
       "      <th>Source</th>\n",
       "      <th>ddof1</th>\n",
       "      <th>ddof2</th>\n",
       "      <th>F</th>\n",
       "      <th>p-unc</th>\n",
       "      <th>np2</th>\n",
       "      <th>eps</th>\n",
       "    </tr>\n",
       "  </thead>\n",
       "  <tbody>\n",
       "    <tr>\n",
       "      <th>0</th>\n",
       "      <td>run</td>\n",
       "      <td>4</td>\n",
       "      <td>144</td>\n",
       "      <td>31.894377</td>\n",
       "      <td>5.053736e-19</td>\n",
       "      <td>0.469765</td>\n",
       "      <td>0.815958</td>\n",
       "    </tr>\n",
       "  </tbody>\n",
       "</table>\n",
       "</div>"
      ],
      "text/plain": [
       "  Source  ddof1  ddof2          F         p-unc       np2       eps\n",
       "0    run      4    144  31.894377  5.053736e-19  0.469765  0.815958"
      ]
     },
     "execution_count": 18,
     "metadata": {},
     "output_type": "execute_result"
    }
   ],
   "source": [
    "part1 = res.query('part == 1')\n",
    "runs = part1.pivot(index='subject', columns='run', values='dprime')\n",
    "pg.rm_anova(part1, dv='dprime', within='run', subject='subject')"
   ]
  },
  {
   "cell_type": "code",
   "execution_count": 19,
   "metadata": {},
   "outputs": [
    {
     "data": {
      "text/html": [
       "<div>\n",
       "<style scoped>\n",
       "    .dataframe tbody tr th:only-of-type {\n",
       "        vertical-align: middle;\n",
       "    }\n",
       "\n",
       "    .dataframe tbody tr th {\n",
       "        vertical-align: top;\n",
       "    }\n",
       "\n",
       "    .dataframe thead th {\n",
       "        text-align: right;\n",
       "    }\n",
       "</style>\n",
       "<table border=\"1\" class=\"dataframe\">\n",
       "  <thead>\n",
       "    <tr style=\"text-align: right;\">\n",
       "      <th></th>\n",
       "      <th>T</th>\n",
       "      <th>dof</th>\n",
       "      <th>alternative</th>\n",
       "      <th>p-val</th>\n",
       "      <th>CI95%</th>\n",
       "      <th>cohen-d</th>\n",
       "      <th>BF10</th>\n",
       "      <th>power</th>\n",
       "      <th>mean</th>\n",
       "      <th>sem</th>\n",
       "      <th>pcor</th>\n",
       "    </tr>\n",
       "  </thead>\n",
       "  <tbody>\n",
       "    <tr>\n",
       "      <th>2 - 1</th>\n",
       "      <td>6.321663</td>\n",
       "      <td>36</td>\n",
       "      <td>two-sided</td>\n",
       "      <td>2.588415e-07</td>\n",
       "      <td>[0.47, 0.91]</td>\n",
       "      <td>0.913540</td>\n",
       "      <td>6.076e+04</td>\n",
       "      <td>0.999713</td>\n",
       "      <td>0.688365</td>\n",
       "      <td>0.108890</td>\n",
       "      <td>0.000001</td>\n",
       "    </tr>\n",
       "    <tr>\n",
       "      <th>3 - 2</th>\n",
       "      <td>3.989797</td>\n",
       "      <td>36</td>\n",
       "      <td>two-sided</td>\n",
       "      <td>3.105943e-04</td>\n",
       "      <td>[0.2, 0.61]</td>\n",
       "      <td>0.591043</td>\n",
       "      <td>88.912</td>\n",
       "      <td>0.937945</td>\n",
       "      <td>0.402626</td>\n",
       "      <td>0.100914</td>\n",
       "      <td>0.000621</td>\n",
       "    </tr>\n",
       "    <tr>\n",
       "      <th>4 - 3</th>\n",
       "      <td>-3.244320</td>\n",
       "      <td>36</td>\n",
       "      <td>two-sided</td>\n",
       "      <td>2.543796e-03</td>\n",
       "      <td>[-0.43, -0.1]</td>\n",
       "      <td>0.411381</td>\n",
       "      <td>13.703</td>\n",
       "      <td>0.682675</td>\n",
       "      <td>-0.265563</td>\n",
       "      <td>0.081855</td>\n",
       "      <td>0.003392</td>\n",
       "    </tr>\n",
       "    <tr>\n",
       "      <th>5 - 4</th>\n",
       "      <td>0.247058</td>\n",
       "      <td>36</td>\n",
       "      <td>two-sided</td>\n",
       "      <td>8.062665e-01</td>\n",
       "      <td>[-0.15, 0.19]</td>\n",
       "      <td>0.029677</td>\n",
       "      <td>0.182</td>\n",
       "      <td>0.053546</td>\n",
       "      <td>0.020866</td>\n",
       "      <td>0.084458</td>\n",
       "      <td>0.806266</td>\n",
       "    </tr>\n",
       "  </tbody>\n",
       "</table>\n",
       "</div>"
      ],
      "text/plain": [
       "              T  dof alternative         p-val          CI95%   cohen-d  \\\n",
       "2 - 1  6.321663   36   two-sided  2.588415e-07   [0.47, 0.91]  0.913540   \n",
       "3 - 2  3.989797   36   two-sided  3.105943e-04    [0.2, 0.61]  0.591043   \n",
       "4 - 3 -3.244320   36   two-sided  2.543796e-03  [-0.43, -0.1]  0.411381   \n",
       "5 - 4  0.247058   36   two-sided  8.062665e-01  [-0.15, 0.19]  0.029677   \n",
       "\n",
       "            BF10     power      mean       sem      pcor  \n",
       "2 - 1  6.076e+04  0.999713  0.688365  0.108890  0.000001  \n",
       "3 - 2     88.912  0.937945  0.402626  0.100914  0.000621  \n",
       "4 - 3     13.703  0.682675 -0.265563  0.081855  0.003392  \n",
       "5 - 4      0.182  0.053546  0.020866  0.084458  0.806266  "
      ]
     },
     "execution_count": 19,
     "metadata": {},
     "output_type": "execute_result"
    }
   ],
   "source": [
    "# compare performance on adjacent runs\n",
    "labels = [f'{r + 1} - {r}' for r in range(1, 5)]\n",
    "tab_list = []\n",
    "for r in range(1, 5):\n",
    "    t = pg.ttest(runs[r + 1], runs[r], paired=True)\n",
    "    diff = runs[r + 1] - runs[r]\n",
    "    t['mean'] = diff.mean()\n",
    "    t['sem'] = diff.sem()\n",
    "    tab_list.append(t)\n",
    "tab = pd.concat(tab_list, axis=0, ignore_index=True)\n",
    "tab.index = labels\n",
    "tab['pcor'] = pg.multicomp(tab['p-val'].to_numpy(), method='fdr_bh')[1]\n",
    "tab"
   ]
  },
  {
   "cell_type": "markdown",
   "metadata": {},
   "source": [
    "## Part 2"
   ]
  },
  {
   "cell_type": "code",
   "execution_count": 20,
   "metadata": {},
   "outputs": [
    {
     "data": {
      "image/png": "[encoded data removed]",
      "text/plain": [
       "<Figure size 288x216 with 1 Axes>"
      ]
     },
     "metadata": {
      "needs_background": "light"
     },
     "output_type": "display_data"
    }
   ],
   "source": [
    "fig, ax = plt.subplots(figsize=(4, 3))\n",
    "statplot.plot_swarm_bar(\n",
    "    res.reset_index().query('part == 2'),\n",
    "    x='run',\n",
    "    y='dprime',\n",
    "    dodge=True,\n",
    "    legend=False,\n",
    "    point_kind='strip',\n",
    "    ax=ax,\n",
    ")\n",
    "ax.set(ylim=(0, 6), xlabel='Run', ylabel=\"d-prime\")\n",
    "fig.savefig(os.path.join(fig_dir, 'orientation_part2_dprime.pdf'));"
   ]
  },
  {
   "cell_type": "code",
   "execution_count": 21,
   "metadata": {},
   "outputs": [
    {
     "data": {
      "image/png": "[encoded data removed]",
      "text/plain": [
       "<Figure size 288x216 with 1 Axes>"
      ]
     },
     "metadata": {
      "needs_background": "light"
     },
     "output_type": "display_data"
    }
   ],
   "source": [
    "fig, ax = plt.subplots(figsize=(4, 3))\n",
    "statplot.plot_swarm_bar(\n",
    "    res.reset_index().query('part == 2'),\n",
    "    x='run',\n",
    "    y='rr',\n",
    "    dodge=True,\n",
    "    legend=False,\n",
    "    point_kind='strip',\n",
    "    ax=ax,\n",
    ")\n",
    "ax.set(xlabel='Run', ylabel=\"Response rate\");"
   ]
  },
  {
   "cell_type": "code",
   "execution_count": 22,
   "metadata": {},
   "outputs": [
    {
     "data": {
      "text/html": [
       "<div>\n",
       "<style scoped>\n",
       "    .dataframe tbody tr th:only-of-type {\n",
       "        vertical-align: middle;\n",
       "    }\n",
       "\n",
       "    .dataframe tbody tr th {\n",
       "        vertical-align: top;\n",
       "    }\n",
       "\n",
       "    .dataframe thead th {\n",
       "        text-align: right;\n",
       "    }\n",
       "</style>\n",
       "<table border=\"1\" class=\"dataframe\">\n",
       "  <thead>\n",
       "    <tr style=\"text-align: right;\">\n",
       "      <th></th>\n",
       "      <th>Source</th>\n",
       "      <th>ddof1</th>\n",
       "      <th>ddof2</th>\n",
       "      <th>F</th>\n",
       "      <th>p-unc</th>\n",
       "      <th>np2</th>\n",
       "      <th>eps</th>\n",
       "    </tr>\n",
       "  </thead>\n",
       "  <tbody>\n",
       "    <tr>\n",
       "      <th>0</th>\n",
       "      <td>run</td>\n",
       "      <td>5</td>\n",
       "      <td>170</td>\n",
       "      <td>1.794697</td>\n",
       "      <td>0.116411</td>\n",
       "      <td>0.050139</td>\n",
       "      <td>0.858767</td>\n",
       "    </tr>\n",
       "  </tbody>\n",
       "</table>\n",
       "</div>"
      ],
      "text/plain": [
       "  Source  ddof1  ddof2         F     p-unc       np2       eps\n",
       "0    run      5    170  1.794697  0.116411  0.050139  0.858767"
      ]
     },
     "execution_count": 22,
     "metadata": {},
     "output_type": "execute_result"
    }
   ],
   "source": [
    "part2 = res.query('part == 2')\n",
    "pg.rm_anova(part2, dv='dprime', within='run', subject='subject')"
   ]
  },
  {
   "cell_type": "code",
   "execution_count": 23,
   "metadata": {},
   "outputs": [
    {
     "data": {
      "text/html": [
       "<div>\n",
       "<style scoped>\n",
       "    .dataframe tbody tr th:only-of-type {\n",
       "        vertical-align: middle;\n",
       "    }\n",
       "\n",
       "    .dataframe tbody tr th {\n",
       "        vertical-align: top;\n",
       "    }\n",
       "\n",
       "    .dataframe thead th {\n",
       "        text-align: right;\n",
       "    }\n",
       "</style>\n",
       "<table border=\"1\" class=\"dataframe\">\n",
       "  <thead>\n",
       "    <tr style=\"text-align: right;\">\n",
       "      <th></th>\n",
       "      <th>T</th>\n",
       "      <th>dof</th>\n",
       "      <th>alternative</th>\n",
       "      <th>p-val</th>\n",
       "      <th>CI95%</th>\n",
       "      <th>cohen-d</th>\n",
       "      <th>BF10</th>\n",
       "      <th>power</th>\n",
       "    </tr>\n",
       "  </thead>\n",
       "  <tbody>\n",
       "    <tr>\n",
       "      <th>T-test</th>\n",
       "      <td>3.59939</td>\n",
       "      <td>36</td>\n",
       "      <td>two-sided</td>\n",
       "      <td>0.000953</td>\n",
       "      <td>[0.13, 0.48]</td>\n",
       "      <td>0.608457</td>\n",
       "      <td>32.623</td>\n",
       "      <td>0.949572</td>\n",
       "    </tr>\n",
       "  </tbody>\n",
       "</table>\n",
       "</div>"
      ],
      "text/plain": [
       "              T  dof alternative     p-val         CI95%   cohen-d    BF10  \\\n",
       "T-test  3.59939   36   two-sided  0.000953  [0.13, 0.48]  0.608457  32.623   \n",
       "\n",
       "           power  \n",
       "T-test  0.949572  "
      ]
     },
     "execution_count": 23,
     "metadata": {},
     "output_type": "execute_result"
    }
   ],
   "source": [
    "part_means = res.groupby(['subject', 'part'])['dprime'].mean().reset_index()\n",
    "tab = pd.pivot(data=part_means, index='subject', columns='part', values='dprime')\n",
    "pg.ttest(tab[1], tab[2], paired=True)"
   ]
  },
  {
   "cell_type": "code",
   "execution_count": 24,
   "metadata": {},
   "outputs": [
    {
     "data": {
      "text/html": [
       "<div>\n",
       "<style scoped>\n",
       "    .dataframe tbody tr th:only-of-type {\n",
       "        vertical-align: middle;\n",
       "    }\n",
       "\n",
       "    .dataframe tbody tr th {\n",
       "        vertical-align: top;\n",
       "    }\n",
       "\n",
       "    .dataframe thead th {\n",
       "        text-align: right;\n",
       "    }\n",
       "</style>\n",
       "<table border=\"1\" class=\"dataframe\">\n",
       "  <thead>\n",
       "    <tr style=\"text-align: right;\">\n",
       "      <th>part</th>\n",
       "      <th>1</th>\n",
       "      <th>2</th>\n",
       "    </tr>\n",
       "  </thead>\n",
       "  <tbody>\n",
       "    <tr>\n",
       "      <th>mean</th>\n",
       "      <td>4.208407</td>\n",
       "      <td>3.903188</td>\n",
       "    </tr>\n",
       "    <tr>\n",
       "      <th>sem</th>\n",
       "      <td>0.095818</td>\n",
       "      <td>0.066487</td>\n",
       "    </tr>\n",
       "  </tbody>\n",
       "</table>\n",
       "</div>"
      ],
      "text/plain": [
       "part         1         2\n",
       "mean  4.208407  3.903188\n",
       "sem   0.095818  0.066487"
      ]
     },
     "execution_count": 24,
     "metadata": {},
     "output_type": "execute_result"
    }
   ],
   "source": [
    "tab.agg(['mean', 'sem'])"
   ]
  },
  {
   "cell_type": "code",
   "execution_count": 25,
   "metadata": {},
   "outputs": [
    {
     "name": "stdout",
     "output_type": "stream",
     "text": [
      "Python implementation: CPython\n",
      "Python version       : 3.7.11\n",
      "IPython version      : 7.28.0\n",
      "\n",
      "pingouin  : 0.4.0\n",
      "pandas    : 1.3.3\n",
      "tesser    : 1.0.0\n",
      "matplotlib: 3.4.3\n",
      "mindstorm : 0.8.1\n",
      "\n"
     ]
    }
   ],
   "source": [
    "%load_ext watermark\n",
    "%watermark -v -iv"
   ]
  }
 ],
 "metadata": {
  "kernelspec": {
   "display_name": "tesser",
   "language": "python",
   "name": "tesser"
  },
  "language_info": {
   "codemirror_mode": {
    "name": "ipython",
    "version": 3
   },
   "file_extension": ".py",
   "mimetype": "text/x-python",
   "name": "python",
   "nbconvert_exporter": "python",
   "pygments_lexer": "ipython3",
   "version": "3.7.12"
  }
 },
 "nbformat": 4,
 "nbformat_minor": 4
}
